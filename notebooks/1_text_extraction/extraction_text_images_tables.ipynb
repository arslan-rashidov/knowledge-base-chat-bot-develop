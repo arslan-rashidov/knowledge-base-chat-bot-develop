{
 "cells": [
  {
   "cell_type": "code",
   "execution_count": 1,
   "id": "d9d9fc89-f58d-462d-9c33-ff3ea866c05d",
   "metadata": {},
   "outputs": [
    {
     "name": "stdout",
     "output_type": "stream",
     "text": [
      "Python 3.12.3\n"
     ]
    }
   ],
   "source": [
    "!python3 --version"
   ]
  },
  {
   "cell_type": "code",
   "execution_count": 2,
   "id": "e78d36f7-8652-4297-9f08-7e76711e1564",
   "metadata": {
    "scrolled": true
   },
   "outputs": [
    {
     "name": "stdout",
     "output_type": "stream",
     "text": [
      "Requirement already satisfied: docling in /usr/local/lib/python3.12/dist-packages (2.38.1)\n",
      "Requirement already satisfied: pydantic<3.0.0,>=2.0.0 in /usr/local/lib/python3.12/dist-packages (from docling) (2.11.7)\n",
      "Requirement already satisfied: docling-core<3.0.0,>=2.29.0 in /usr/local/lib/python3.12/dist-packages (from docling-core[chunking]<3.0.0,>=2.29.0->docling) (2.39.0)\n",
      "Requirement already satisfied: docling-ibm-models<4.0.0,>=3.4.4 in /usr/local/lib/python3.12/dist-packages (from docling) (3.6.0)\n",
      "Requirement already satisfied: docling-parse<5.0.0,>=4.0.0 in /usr/local/lib/python3.12/dist-packages (from docling) (4.1.0)\n",
      "Requirement already satisfied: filetype<2.0.0,>=1.2.0 in /usr/local/lib/python3.12/dist-packages (from docling) (1.2.0)\n",
      "Requirement already satisfied: pypdfium2<5.0.0,>=4.30.0 in /usr/local/lib/python3.12/dist-packages (from docling) (4.30.1)\n",
      "Requirement already satisfied: pydantic-settings<3.0.0,>=2.3.0 in /usr/local/lib/python3.12/dist-packages (from docling) (2.10.1)\n",
      "Requirement already satisfied: huggingface_hub<1,>=0.23 in /usr/local/lib/python3.12/dist-packages (from docling) (0.33.1)\n",
      "Requirement already satisfied: requests<3.0.0,>=2.32.2 in /usr/local/lib/python3.12/dist-packages (from docling) (2.32.4)\n",
      "Requirement already satisfied: easyocr<2.0,>=1.7 in /usr/local/lib/python3.12/dist-packages (from docling) (1.7.2)\n",
      "Requirement already satisfied: certifi>=2024.7.4 in /usr/local/lib/python3.12/dist-packages (from docling) (2025.6.15)\n",
      "Requirement already satisfied: rtree<2.0.0,>=1.3.0 in /usr/local/lib/python3.12/dist-packages (from docling) (1.4.0)\n",
      "Requirement already satisfied: typer<0.17.0,>=0.12.5 in /usr/local/lib/python3.12/dist-packages (from docling) (0.16.0)\n",
      "Requirement already satisfied: python-docx<2.0.0,>=1.1.2 in /usr/local/lib/python3.12/dist-packages (from docling) (1.2.0)\n",
      "Requirement already satisfied: python-pptx<2.0.0,>=1.0.2 in /usr/local/lib/python3.12/dist-packages (from docling) (1.0.2)\n",
      "Requirement already satisfied: beautifulsoup4<5.0.0,>=4.12.3 in /usr/local/lib/python3.12/dist-packages (from docling) (4.13.4)\n",
      "Requirement already satisfied: pandas<3.0.0,>=2.1.4 in /usr/local/lib/python3.12/dist-packages (from docling) (2.3.0)\n",
      "Requirement already satisfied: marko<3.0.0,>=2.1.2 in /usr/local/lib/python3.12/dist-packages (from docling) (2.1.4)\n",
      "Requirement already satisfied: openpyxl<4.0.0,>=3.1.5 in /usr/local/lib/python3.12/dist-packages (from docling) (3.1.5)\n",
      "Requirement already satisfied: lxml<6.0.0,>=4.0.0 in /usr/local/lib/python3.12/dist-packages (from docling) (5.4.0)\n",
      "Requirement already satisfied: pillow<12.0.0,>=10.0.0 in /usr/local/lib/python3.12/dist-packages (from docling) (11.2.1)\n",
      "Requirement already satisfied: tqdm<5.0.0,>=4.65.0 in /usr/local/lib/python3.12/dist-packages (from docling) (4.67.1)\n",
      "Requirement already satisfied: pluggy<2.0.0,>=1.0.0 in /usr/local/lib/python3.12/dist-packages (from docling) (1.6.0)\n",
      "Requirement already satisfied: pylatexenc<3.0,>=2.10 in /usr/local/lib/python3.12/dist-packages (from docling) (2.10)\n",
      "Requirement already satisfied: scipy<2.0.0,>=1.6.0 in /usr/local/lib/python3.12/dist-packages (from docling) (1.16.0)\n",
      "Requirement already satisfied: soupsieve>1.2 in /usr/local/lib/python3.12/dist-packages (from beautifulsoup4<5.0.0,>=4.12.3->docling) (2.7)\n",
      "Requirement already satisfied: typing-extensions>=4.0.0 in /usr/local/lib/python3.12/dist-packages (from beautifulsoup4<5.0.0,>=4.12.3->docling) (4.14.0)\n",
      "Requirement already satisfied: jsonschema<5.0.0,>=4.16.0 in /usr/local/lib/python3.12/dist-packages (from docling-core<3.0.0,>=2.29.0->docling-core[chunking]<3.0.0,>=2.29.0->docling) (4.24.0)\n",
      "Requirement already satisfied: jsonref<2.0.0,>=1.1.0 in /usr/local/lib/python3.12/dist-packages (from docling-core<3.0.0,>=2.29.0->docling-core[chunking]<3.0.0,>=2.29.0->docling) (1.1.0)\n",
      "Requirement already satisfied: tabulate<0.10.0,>=0.9.0 in /usr/local/lib/python3.12/dist-packages (from docling-core<3.0.0,>=2.29.0->docling-core[chunking]<3.0.0,>=2.29.0->docling) (0.9.0)\n",
      "Requirement already satisfied: pyyaml<7.0.0,>=5.1 in /usr/local/lib/python3.12/dist-packages (from docling-core<3.0.0,>=2.29.0->docling-core[chunking]<3.0.0,>=2.29.0->docling) (6.0.2)\n",
      "Requirement already satisfied: latex2mathml<4.0.0,>=3.77.0 in /usr/local/lib/python3.12/dist-packages (from docling-core<3.0.0,>=2.29.0->docling-core[chunking]<3.0.0,>=2.29.0->docling) (3.78.0)\n",
      "Requirement already satisfied: semchunk<3.0.0,>=2.2.0 in /usr/local/lib/python3.12/dist-packages (from docling-core[chunking]<3.0.0,>=2.29.0->docling) (2.2.2)\n",
      "Requirement already satisfied: transformers<5.0.0,>=4.34.0 in /usr/local/lib/python3.12/dist-packages (from docling-core[chunking]<3.0.0,>=2.29.0->docling) (4.53.0)\n",
      "Requirement already satisfied: torch<3.0.0,>=2.2.2 in /usr/local/lib/python3.12/dist-packages (from docling-ibm-models<4.0.0,>=3.4.4->docling) (2.7.1)\n",
      "Requirement already satisfied: torchvision<1,>=0 in /usr/local/lib/python3.12/dist-packages (from docling-ibm-models<4.0.0,>=3.4.4->docling) (0.22.1)\n",
      "Requirement already satisfied: jsonlines<4.0.0,>=3.1.0 in /usr/local/lib/python3.12/dist-packages (from docling-ibm-models<4.0.0,>=3.4.4->docling) (3.1.0)\n",
      "Requirement already satisfied: opencv-python-headless<5.0.0.0,>=4.6.0.66 in /usr/local/lib/python3.12/dist-packages (from docling-ibm-models<4.0.0,>=3.4.4->docling) (4.11.0.86)\n",
      "Requirement already satisfied: safetensors<1,>=0.4.3 in /usr/local/lib/python3.12/dist-packages (from safetensors[torch]<1,>=0.4.3->docling-ibm-models<4.0.0,>=3.4.4->docling) (0.5.3)\n",
      "Requirement already satisfied: numpy<3.0.0,>=1.24.4 in /usr/local/lib/python3.12/dist-packages (from docling-ibm-models<4.0.0,>=3.4.4->docling) (2.3.1)\n",
      "Requirement already satisfied: scikit-image in /usr/local/lib/python3.12/dist-packages (from easyocr<2.0,>=1.7->docling) (0.25.2)\n",
      "Requirement already satisfied: python-bidi in /usr/local/lib/python3.12/dist-packages (from easyocr<2.0,>=1.7->docling) (0.6.6)\n",
      "Requirement already satisfied: Shapely in /usr/local/lib/python3.12/dist-packages (from easyocr<2.0,>=1.7->docling) (2.1.1)\n",
      "Requirement already satisfied: pyclipper in /usr/local/lib/python3.12/dist-packages (from easyocr<2.0,>=1.7->docling) (1.3.0.post6)\n",
      "Requirement already satisfied: ninja in /usr/local/lib/python3.12/dist-packages (from easyocr<2.0,>=1.7->docling) (1.11.1.4)\n",
      "Requirement already satisfied: filelock in /usr/local/lib/python3.12/dist-packages (from huggingface_hub<1,>=0.23->docling) (3.18.0)\n",
      "Requirement already satisfied: fsspec>=2023.5.0 in /usr/local/lib/python3.12/dist-packages (from huggingface_hub<1,>=0.23->docling) (2025.5.1)\n",
      "Requirement already satisfied: packaging>=20.9 in /usr/local/lib/python3.12/dist-packages (from huggingface_hub<1,>=0.23->docling) (25.0)\n",
      "Requirement already satisfied: hf-xet<2.0.0,>=1.1.2 in /usr/local/lib/python3.12/dist-packages (from huggingface_hub<1,>=0.23->docling) (1.1.5)\n",
      "Requirement already satisfied: et-xmlfile in /usr/local/lib/python3.12/dist-packages (from openpyxl<4.0.0,>=3.1.5->docling) (2.0.0)\n",
      "Requirement already satisfied: python-dateutil>=2.8.2 in /usr/local/lib/python3.12/dist-packages (from pandas<3.0.0,>=2.1.4->docling) (2.9.0.post0)\n",
      "Requirement already satisfied: pytz>=2020.1 in /usr/local/lib/python3.12/dist-packages (from pandas<3.0.0,>=2.1.4->docling) (2025.2)\n",
      "Requirement already satisfied: tzdata>=2022.7 in /usr/local/lib/python3.12/dist-packages (from pandas<3.0.0,>=2.1.4->docling) (2025.2)\n",
      "Requirement already satisfied: annotated-types>=0.6.0 in /usr/local/lib/python3.12/dist-packages (from pydantic<3.0.0,>=2.0.0->docling) (0.7.0)\n",
      "Requirement already satisfied: pydantic-core==2.33.2 in /usr/local/lib/python3.12/dist-packages (from pydantic<3.0.0,>=2.0.0->docling) (2.33.2)\n",
      "Requirement already satisfied: typing-inspection>=0.4.0 in /usr/local/lib/python3.12/dist-packages (from pydantic<3.0.0,>=2.0.0->docling) (0.4.1)\n",
      "Requirement already satisfied: python-dotenv>=0.21.0 in /usr/local/lib/python3.12/dist-packages (from pydantic-settings<3.0.0,>=2.3.0->docling) (1.1.1)\n",
      "Requirement already satisfied: XlsxWriter>=0.5.7 in /usr/local/lib/python3.12/dist-packages (from python-pptx<2.0.0,>=1.0.2->docling) (3.2.5)\n",
      "Requirement already satisfied: charset_normalizer<4,>=2 in /usr/local/lib/python3.12/dist-packages (from requests<3.0.0,>=2.32.2->docling) (3.4.2)\n",
      "Requirement already satisfied: idna<4,>=2.5 in /usr/local/lib/python3.12/dist-packages (from requests<3.0.0,>=2.32.2->docling) (3.10)\n",
      "Requirement already satisfied: urllib3<3,>=1.21.1 in /usr/local/lib/python3.12/dist-packages (from requests<3.0.0,>=2.32.2->docling) (2.5.0)\n",
      "Requirement already satisfied: click>=8.0.0 in /usr/local/lib/python3.12/dist-packages (from typer<0.17.0,>=0.12.5->docling) (8.2.1)\n",
      "Requirement already satisfied: shellingham>=1.3.0 in /usr/local/lib/python3.12/dist-packages (from typer<0.17.0,>=0.12.5->docling) (1.5.4)\n",
      "Requirement already satisfied: rich>=10.11.0 in /usr/local/lib/python3.12/dist-packages (from typer<0.17.0,>=0.12.5->docling) (14.0.0)\n",
      "Requirement already satisfied: attrs>=19.2.0 in /usr/local/lib/python3.12/dist-packages (from jsonlines<4.0.0,>=3.1.0->docling-ibm-models<4.0.0,>=3.4.4->docling) (25.3.0)\n",
      "Requirement already satisfied: jsonschema-specifications>=2023.03.6 in /usr/local/lib/python3.12/dist-packages (from jsonschema<5.0.0,>=4.16.0->docling-core<3.0.0,>=2.29.0->docling-core[chunking]<3.0.0,>=2.29.0->docling) (2025.4.1)\n",
      "Requirement already satisfied: referencing>=0.28.4 in /usr/local/lib/python3.12/dist-packages (from jsonschema<5.0.0,>=4.16.0->docling-core<3.0.0,>=2.29.0->docling-core[chunking]<3.0.0,>=2.29.0->docling) (0.36.2)\n",
      "Requirement already satisfied: rpds-py>=0.7.1 in /usr/local/lib/python3.12/dist-packages (from jsonschema<5.0.0,>=4.16.0->docling-core<3.0.0,>=2.29.0->docling-core[chunking]<3.0.0,>=2.29.0->docling) (0.25.1)\n",
      "Requirement already satisfied: six>=1.5 in /usr/lib/python3/dist-packages (from python-dateutil>=2.8.2->pandas<3.0.0,>=2.1.4->docling) (1.16.0)\n",
      "Requirement already satisfied: markdown-it-py>=2.2.0 in /usr/local/lib/python3.12/dist-packages (from rich>=10.11.0->typer<0.17.0,>=0.12.5->docling) (3.0.0)\n",
      "Requirement already satisfied: pygments<3.0.0,>=2.13.0 in /usr/local/lib/python3.12/dist-packages (from rich>=10.11.0->typer<0.17.0,>=0.12.5->docling) (2.19.2)\n",
      "Requirement already satisfied: mpire[dill] in /usr/local/lib/python3.12/dist-packages (from semchunk<3.0.0,>=2.2.0->docling-core[chunking]<3.0.0,>=2.29.0->docling) (2.10.2)\n",
      "Requirement already satisfied: setuptools in /usr/lib/python3/dist-packages (from torch<3.0.0,>=2.2.2->docling-ibm-models<4.0.0,>=3.4.4->docling) (68.1.2)\n",
      "Requirement already satisfied: sympy>=1.13.3 in /usr/local/lib/python3.12/dist-packages (from torch<3.0.0,>=2.2.2->docling-ibm-models<4.0.0,>=3.4.4->docling) (1.14.0)\n",
      "Requirement already satisfied: networkx in /usr/local/lib/python3.12/dist-packages (from torch<3.0.0,>=2.2.2->docling-ibm-models<4.0.0,>=3.4.4->docling) (3.5)\n",
      "Requirement already satisfied: jinja2 in /usr/local/lib/python3.12/dist-packages (from torch<3.0.0,>=2.2.2->docling-ibm-models<4.0.0,>=3.4.4->docling) (3.1.6)\n",
      "Requirement already satisfied: nvidia-cuda-nvrtc-cu12==12.6.77 in /usr/local/lib/python3.12/dist-packages (from torch<3.0.0,>=2.2.2->docling-ibm-models<4.0.0,>=3.4.4->docling) (12.6.77)\n",
      "Requirement already satisfied: nvidia-cuda-runtime-cu12==12.6.77 in /usr/local/lib/python3.12/dist-packages (from torch<3.0.0,>=2.2.2->docling-ibm-models<4.0.0,>=3.4.4->docling) (12.6.77)\n",
      "Requirement already satisfied: nvidia-cuda-cupti-cu12==12.6.80 in /usr/local/lib/python3.12/dist-packages (from torch<3.0.0,>=2.2.2->docling-ibm-models<4.0.0,>=3.4.4->docling) (12.6.80)\n",
      "Requirement already satisfied: nvidia-cudnn-cu12==9.5.1.17 in /usr/local/lib/python3.12/dist-packages (from torch<3.0.0,>=2.2.2->docling-ibm-models<4.0.0,>=3.4.4->docling) (9.5.1.17)\n",
      "Requirement already satisfied: nvidia-cublas-cu12==12.6.4.1 in /usr/local/lib/python3.12/dist-packages (from torch<3.0.0,>=2.2.2->docling-ibm-models<4.0.0,>=3.4.4->docling) (12.6.4.1)\n",
      "Requirement already satisfied: nvidia-cufft-cu12==11.3.0.4 in /usr/local/lib/python3.12/dist-packages (from torch<3.0.0,>=2.2.2->docling-ibm-models<4.0.0,>=3.4.4->docling) (11.3.0.4)\n",
      "Requirement already satisfied: nvidia-curand-cu12==10.3.7.77 in /usr/local/lib/python3.12/dist-packages (from torch<3.0.0,>=2.2.2->docling-ibm-models<4.0.0,>=3.4.4->docling) (10.3.7.77)\n",
      "Requirement already satisfied: nvidia-cusolver-cu12==11.7.1.2 in /usr/local/lib/python3.12/dist-packages (from torch<3.0.0,>=2.2.2->docling-ibm-models<4.0.0,>=3.4.4->docling) (11.7.1.2)\n",
      "Requirement already satisfied: nvidia-cusparse-cu12==12.5.4.2 in /usr/local/lib/python3.12/dist-packages (from torch<3.0.0,>=2.2.2->docling-ibm-models<4.0.0,>=3.4.4->docling) (12.5.4.2)\n",
      "Requirement already satisfied: nvidia-cusparselt-cu12==0.6.3 in /usr/local/lib/python3.12/dist-packages (from torch<3.0.0,>=2.2.2->docling-ibm-models<4.0.0,>=3.4.4->docling) (0.6.3)\n",
      "Requirement already satisfied: nvidia-nccl-cu12==2.26.2 in /usr/local/lib/python3.12/dist-packages (from torch<3.0.0,>=2.2.2->docling-ibm-models<4.0.0,>=3.4.4->docling) (2.26.2)\n",
      "Requirement already satisfied: nvidia-nvtx-cu12==12.6.77 in /usr/local/lib/python3.12/dist-packages (from torch<3.0.0,>=2.2.2->docling-ibm-models<4.0.0,>=3.4.4->docling) (12.6.77)\n",
      "Requirement already satisfied: nvidia-nvjitlink-cu12==12.6.85 in /usr/local/lib/python3.12/dist-packages (from torch<3.0.0,>=2.2.2->docling-ibm-models<4.0.0,>=3.4.4->docling) (12.6.85)\n",
      "Requirement already satisfied: nvidia-cufile-cu12==1.11.1.6 in /usr/local/lib/python3.12/dist-packages (from torch<3.0.0,>=2.2.2->docling-ibm-models<4.0.0,>=3.4.4->docling) (1.11.1.6)\n",
      "Requirement already satisfied: triton==3.3.1 in /usr/local/lib/python3.12/dist-packages (from torch<3.0.0,>=2.2.2->docling-ibm-models<4.0.0,>=3.4.4->docling) (3.3.1)\n",
      "Requirement already satisfied: regex!=2019.12.17 in /usr/local/lib/python3.12/dist-packages (from transformers<5.0.0,>=4.34.0->docling-core[chunking]<3.0.0,>=2.29.0->docling) (2024.11.6)\n",
      "Requirement already satisfied: tokenizers<0.22,>=0.21 in /usr/local/lib/python3.12/dist-packages (from transformers<5.0.0,>=4.34.0->docling-core[chunking]<3.0.0,>=2.29.0->docling) (0.21.2)\n",
      "Requirement already satisfied: imageio!=2.35.0,>=2.33 in /usr/local/lib/python3.12/dist-packages (from scikit-image->easyocr<2.0,>=1.7->docling) (2.37.0)\n",
      "Requirement already satisfied: tifffile>=2022.8.12 in /usr/local/lib/python3.12/dist-packages (from scikit-image->easyocr<2.0,>=1.7->docling) (2025.6.11)\n",
      "Requirement already satisfied: lazy-loader>=0.4 in /usr/local/lib/python3.12/dist-packages (from scikit-image->easyocr<2.0,>=1.7->docling) (0.4)\n",
      "Requirement already satisfied: mdurl~=0.1 in /usr/local/lib/python3.12/dist-packages (from markdown-it-py>=2.2.0->rich>=10.11.0->typer<0.17.0,>=0.12.5->docling) (0.1.2)\n",
      "Requirement already satisfied: mpmath<1.4,>=1.1.0 in /usr/local/lib/python3.12/dist-packages (from sympy>=1.13.3->torch<3.0.0,>=2.2.2->docling-ibm-models<4.0.0,>=3.4.4->docling) (1.3.0)\n",
      "Requirement already satisfied: MarkupSafe>=2.0 in /usr/local/lib/python3.12/dist-packages (from jinja2->torch<3.0.0,>=2.2.2->docling-ibm-models<4.0.0,>=3.4.4->docling) (3.0.2)\n",
      "Requirement already satisfied: multiprocess>=0.70.15 in /usr/local/lib/python3.12/dist-packages (from mpire[dill]->semchunk<3.0.0,>=2.2.0->docling-core[chunking]<3.0.0,>=2.29.0->docling) (0.70.18)\n",
      "Requirement already satisfied: dill>=0.4.0 in /usr/local/lib/python3.12/dist-packages (from multiprocess>=0.70.15->mpire[dill]->semchunk<3.0.0,>=2.2.0->docling-core[chunking]<3.0.0,>=2.29.0->docling) (0.4.0)\n",
      "\u001b[33mWARNING: Running pip as the 'root' user can result in broken permissions and conflicting behaviour with the system package manager. It is recommended to use a virtual environment instead: https://pip.pypa.io/warnings/venv\u001b[0m\u001b[33m\n",
      "\u001b[0m"
     ]
    }
   ],
   "source": [
    "!pip install docling"
   ]
  },
  {
   "cell_type": "code",
   "execution_count": 4,
   "id": "5f920bf6-c281-4c6b-a8c0-f71b8d4402e8",
   "metadata": {},
   "outputs": [],
   "source": [
    "import os"
   ]
  },
  {
   "cell_type": "code",
   "execution_count": 8,
   "id": "7f010d7f-65a6-4e17-9e87-8ae4a72c3bda",
   "metadata": {},
   "outputs": [],
   "source": [
    "DATA_DIR = '/workspace/knowledge-base-chat-bot-develop/data/kzsk'\n",
    "\n",
    "DOCUMENTS_DATA_DIR = os.path.join(DATA_DIR, 'documents')\n",
    "QUESTIONS_DATA_DIR = os.path.join(DATA_DIR, 'questions')\n",
    "\n",
    "DOCUMENTS_NAMES = os.listdir(DOCUMENTS_DATA_DIR)"
   ]
  },
  {
   "cell_type": "code",
   "execution_count": 6,
   "id": "142b0a5e-9374-4fe6-84ef-41153d9e3ae5",
   "metadata": {},
   "outputs": [
    {
     "data": {
      "text/plain": [
       "['фторсилоксаны.pdf',\n",
       " 'получение полиметилгидридметилсилоксана.pdf',\n",
       " 'Гидросилилирование обзор.pdf',\n",
       " 'RU2748330C2_20210524.pdf',\n",
       " 'Ю.Д. Семчиков - Высокомолекулярные соединения,.pdf',\n",
       " '.ipynb_checkpoints']"
      ]
     },
     "execution_count": 6,
     "metadata": {},
     "output_type": "execute_result"
    }
   ],
   "source": [
    "os.listdir(DOCUMENTS_DATA_DIR)"
   ]
  },
  {
   "cell_type": "code",
   "execution_count": 4,
   "id": "c613540e-c2a3-4278-81ab-4ddbe814d337",
   "metadata": {},
   "outputs": [
    {
     "ename": "FileNotFoundError",
     "evalue": "[Errno 2] No such file or directory: '/workspace/knowledge-base-chat-bot-develop/documents'",
     "output_type": "error",
     "traceback": [
      "\u001b[31m---------------------------------------------------------------------------\u001b[39m",
      "\u001b[31mFileNotFoundError\u001b[39m                         Traceback (most recent call last)",
      "\u001b[36mCell\u001b[39m\u001b[36m \u001b[39m\u001b[32mIn[4]\u001b[39m\u001b[32m, line 1\u001b[39m\n\u001b[32m----> \u001b[39m\u001b[32m1\u001b[39m \u001b[43mos\u001b[49m\u001b[43m.\u001b[49m\u001b[43mlistdir\u001b[49m\u001b[43m(\u001b[49m\u001b[33;43m'\u001b[39;49m\u001b[33;43m/workspace/knowledge-base-chat-bot-develop/documents\u001b[39;49m\u001b[33;43m'\u001b[39;49m\u001b[43m)\u001b[49m\n",
      "\u001b[31mFileNotFoundError\u001b[39m: [Errno 2] No such file or directory: '/workspace/knowledge-base-chat-bot-develop/documents'"
     ]
    }
   ],
   "source": [
    "os.listdir('/workspace/knowledge-base-chat-bot-develop/documents')"
   ]
  },
  {
   "cell_type": "code",
   "execution_count": null,
   "id": "d5dd2396-0521-4ff3-a7fa-385d1f4609b7",
   "metadata": {},
   "outputs": [],
   "source": [
    "documents = []"
   ]
  },
  {
   "cell_type": "markdown",
   "id": "cf8276e3-0de7-49e1-8c49-d08200348d54",
   "metadata": {},
   "source": [
    "- Dolphin\n",
    "- Abbyy\n",
    "- pytesseract\n",
    "- pymupdf\n",
    "- docling\n",
    "- boa(https://github.com/ndlrf-rnd/progress-boa/tree/main)\n",
    "- pdfminer.six(https://github.com/pdfminer/pdfminer.six)\n",
    "- marker(https://github.com/datalab-to/marker)"
   ]
  },
  {
   "cell_type": "markdown",
   "id": "2ca585e7-17a2-450c-b118-58d9e71a0cab",
   "metadata": {},
   "source": [
    "# Docling"
   ]
  },
  {
   "cell_type": "code",
   "execution_count": 11,
   "id": "40965344-66d4-43c1-9473-eb9f3be7f258",
   "metadata": {},
   "outputs": [],
   "source": [
    "import json\n",
    "import logging\n",
    "import time\n",
    "from pathlib import Path\n",
    "from docling.datamodel.base_models import InputFormat\n",
    "from docling.datamodel.pipeline_options import (\n",
    "    AcceleratorDevice,\n",
    "    AcceleratorOptions,\n",
    "    PdfPipelineOptions,\n",
    ")\n",
    "from docling.document_converter import DocumentConverter, PdfFormatOption"
   ]
  },
  {
   "cell_type": "code",
   "execution_count": 2,
   "id": "8884aca5-39cf-4940-8ca6-2dbbac6aaafe",
   "metadata": {},
   "outputs": [],
   "source": [
    "from docling.document_converter import DocumentConverter"
   ]
  },
  {
   "cell_type": "code",
   "execution_count": 13,
   "id": "e359f0e1-aa82-412f-ae4f-a7e852009131",
   "metadata": {},
   "outputs": [],
   "source": [
    "_log = logging.getLogger(__name__)\n",
    "logging.basicConfig(level=logging.INFO)"
   ]
  },
  {
   "cell_type": "code",
   "execution_count": 22,
   "id": "5bf0059c-a337-444c-9319-5194f7235bc5",
   "metadata": {},
   "outputs": [
    {
     "name": "stderr",
     "output_type": "stream",
     "text": [
      "INFO:docling.datamodel.document:detected formats: [<InputFormat.PDF: 'pdf'>]\n",
      "INFO:docling.document_converter:Going to convert document batch...\n",
      "INFO:docling.document_converter:Initializing pipeline for StandardPdfPipeline with options hash ebe7ea83c3cc074cead0a7f03ffdcdf7\n",
      "INFO:docling.utils.accelerator_utils:Accelerator device: 'cuda:0'\n"
     ]
    },
    {
     "name": "stdout",
     "output_type": "stream",
     "text": [
      "/workspace/knowledge-base-chat-bot-develop/data/kzsk/documents/фторсилоксаны.pdf\n"
     ]
    },
    {
     "name": "stderr",
     "output_type": "stream",
     "text": [
      "INFO:docling.utils.accelerator_utils:Accelerator device: 'cuda:0'\n",
      "INFO:docling.utils.accelerator_utils:Accelerator device: 'cuda:0'\n",
      "INFO:docling.pipeline.base_pipeline:Processing document фторсилоксаны.pdf\n",
      "INFO:docling.document_converter:Finished converting document фторсилоксаны.pdf in 7.38 sec.\n",
      "INFO:__main__:Document converted in 7.41 seconds.\n"
     ]
    }
   ],
   "source": [
    "input_doc_path = os.path.join(DOCUMENTS_DATA_DIR, DOCUMENTS_NAMES[0])\n",
    "print(input_doc_path)\n",
    "\n",
    "# DocParsing with metadata captured from vision models\n",
    "# ----------------------\n",
    "pipeline_options = PdfPipelineOptions()\n",
    "pipeline_options.do_ocr = False\n",
    "pipeline_options.do_table_structure = True\n",
    "pipeline_options.do_picture_classification= False\n",
    "pipeline_options.do_formula_enrichment=False\n",
    "pipeline_options.do_picture_description=True\n",
    "pipeline_options.generate_picture_images = True\n",
    "pipeline_options.table_structure_options.do_cell_matching = True\n",
    "pipeline_options.picture_description_options.prompt = (\n",
    "    \"Опиши изображение из научной статьи, выделив ключевую информацию. Если на нём есть график, таблица или диаграмма — кратко и ясно поясни их содержимое и назначение. Сформулируй подпись ёмко и информативно, чтобы её легко было найти по запросу.\"\n",
    ")\n",
    "pipeline_options.ocr_options.lang = [\"ru\", \"en\"]  \n",
    "\n",
    "pipeline_options.accelerator_options = AcceleratorOptions(\n",
    "    num_threads=4, device=AcceleratorDevice.AUTO\n",
    ")\n",
    "\n",
    "doc_converter = DocumentConverter(\n",
    "    format_options={\n",
    "        InputFormat.PDF: PdfFormatOption(pipeline_options=pipeline_options)\n",
    "    }\n",
    ")\n",
    "\n",
    "start_time = time.time()\n",
    "conv_result = doc_converter.convert(input_doc_path)\n",
    "end_time = time.time() - start_time\n",
    "\n",
    "_log.info(f\"Document converted in {end_time:.2f} seconds.\")"
   ]
  },
  {
   "cell_type": "code",
   "execution_count": 18,
   "id": "298dad77-2653-4cb5-822e-8e0c7185788d",
   "metadata": {},
   "outputs": [
    {
     "data": {
      "text/plain": [
       "'## Наполнители\\n\\nТаблица 3. Свойства резиновых смесей и резин на основе СКЭПТ 60 2 гр. с ЭНБ для производства уплотнителей\\n\\n|                                                                                     | Резиновая смесь   | Резиновая смесь   | Резиновая смесь   | Резиновая смесь   | Резиновая смесь   | Резиновая смесь   |\\n|-------------------------------------------------------------------------------------|-------------------|-------------------|-------------------|-------------------|-------------------|-------------------|\\n| Показатель                                                                          | 1                 | 2                 | 3                 | 4                 | 5                 | 6                 |\\n| Резиновая смесь                                                                     | Резиновая смесь   | Резиновая смесь   | Резиновая смесь   | Резиновая смесь   | Резиновая смесь   | Резиновая смесь   |\\n| Вязкость по Муни (ML 1+4, 100 °С), усл.ед.                                          | 43                | 40                | 40                | 39                | 32                | 26                |\\n| Пластичность, усл.ед.                                                               | 0,418             | 0,411             | 0,375             | 0,378             | 0,398             | 0,438             |\\n| Эластическое восстановление, мм                                                     | 0,82              | 0,53              | 0,71              | 0,8               | 0,72              | 0,92              |\\n| Реометрия, 155 °С                                                                   |                   |                   |                   |                   |                   |                   |\\n| Крутящий момент, дН·м минимальный максимальный                                      | 1,1 13,9          | 1,2 13,7          | 1,2 12,7          | 0,9 12,8          | 0,7 12,6          | 0,7 10,7          |\\n| Время начала вулканизации, мин                                                      | 1,0               | 1,1               | 1,1               | 1,2               | 1,3               | 1,3               |\\n| Время достижения 50 %-й степени вулканизации, мин                                   | 2,2               | 2,2               | 2,1               | 2,5               | 2,8               | 2,3               |\\n| Оптимальное время вулканизации, мин                                                 | 9,7               | 6,4               | 7,1               | 8,9               | 9,1               | 7,3               |\\n| Вулканизат                                                                          | Вулканизат        | Вулканизат        | Вулканизат        | Вулканизат        | Вулканизат        | Вулканизат        |\\n| Условная прочность при растяжении,МПа                                               | 9,5               | 9,0               | 7,9               | 8,1               | 6,6               | 6,3               |\\n| Относительное удлинение при разрыве,%                                               | 310               | 335               | 353               | 393               | 404               | 476               |\\n| Твердость по Шору А, усл.ед.                                                        | 70                | 72                | 69                | 68                | 63                | 62                |\\n| Сопротивление раздиру, кН/м                                                         | 36,2              | 31,4              | 31,6              | 25,2              | 23,4              | 22,2              |\\n| Изменение* твердости по Шору А, усл.ед.                                             | +10               | +2                | +5                | +2                | +5                | +5                |\\n| Изменение*,% условной прочности при растяжении относительного удлинения при разрыве | +4,5 -42,3        | -5,6 -40,3        | 2,5 -40,5         | -14,8 -41,5       | -9 -40,6          | -17,4 -43,3       |\\n\\n* После старения (воздух, 125 °С, 24 ч).\\n\\nагентов, что  препятствует образованию   достаточно густой  и  прочной  вулканизационной  сетки  и,  как следствие, снижаются прочностные характеристики.\\n\\nПоскольку  введение  ТШП  в  резиновые  смеси оказывает пластифицирующее действие, для получения более жестких эластомерных композиций необходимо  меньшее  содержание  пластификаторов  по сравнению со смесями с техуглеродом [3].\\n\\nИз-за  наличия присущих шунгиту  антиокислительных  свойств  можно  было  ожидать  улучшения показателей  вулканизатов  после  старения.  Однако, как видно из полученных результатов, весь комплекс свойств  после  старения  ухудшается.  По-видимому, это  также  связано  с  формированием  недостаточно прочной  вулканизационной  сетки  при  использовании шунгита.\\n\\nТаким образом, показана  возможность использования шунгита в производстве неформовых резинотехнических изделий. Присутствие в шунгите наноразмерных  частиц  фуллеренов  улучшает  технологические  свойства  (уменьшение  вязкости  по Муни) резиновых смесей, что приводит к снижению энергозатрат. Кроме того, меньшая  стоимость шунгита  по  сравнению  с  традиционно  используемым техническим углеродом позволяет снизить себестоимость резин.\\n\\nРабота  выполнена  в  рамках  ФЦП  «Исследования  и разработки  по  приоритетным  направлениям  развития научно-технического комплекса России на 2007-2012 г.» Шифр «2009-075.2-00-08-003».\\n\\nБиблиографический список\\n\\n- 1. Пройчева А.Г., Морозов Ю.Л., Резниченко С.В., Валиа А.С. // Каучук и резина. 2007. №2. С. 22.\\n- 2. Ушмарин Н.Ф., Кольцов Н.И . // Там же. 2008. №4. С. 28.\\n- 3. Касперович А.В., Шашок Ж.С., Одегова И.И. //  Т ез.  докл. ХIV Межд. научно-практ. конф. «Резиновая промышленность, сырье,  материалы,  технологии»  (Москва,  2008).  С.  88.\\n\\nПоступила в редакцию 26.10.2009.\\n\\n## КОМПОЗИЦИИ НА ОСНОВЕ ЖИДКОГО ФТОРСИЛОКСАНОВОГО КАУЧУКА\\n\\nРожков  А.Г.*,  Копылов  В.М.**,  Киреев  В.В.*,  Шрагин  Д.И.***, Исаев Ю.В.***, Кукушкин С.Ю.***, Геворкян  Л.Н.***  (*Российский  химико-технологический  университет  им.  Д.И.  Менделеева,  Москва;  **ФГУ  Предприятие «Государственный научный центр РФ «Государственный научно-исследовательский  институт  химии и технологии элементоорганических соединений», Москва; ***ООО «Пента»,  Москва)\\n\\nВ  настоящее  время  композиции  на  основе  жидких силоксановых каучуков (LSR) находят все большее  применение  благодаря  возможности  создания более эффективного и экономически выгодного производства по сравнению с обычными силиконовыми резинами  [1].  Из-за  инертности,  химической  и  тер-\\n\\nмической стабильности их вулканизатов LSR применяют при производстве изделий для ухода за детьми, в медицинской и пищевой промышленности, для различных  автомобильных  деталей,  компонентов  электронных проборов, а также для пропитки различных тканей (армированные РТИ, мембраны и т.п.) [1, 2].\\n\\nНаиболее широкое применение нашли двухкомпонентные LSR-композиции, вулканизующиеся по реакции  гидросилилирования  [3-8].  Основу  таких композиций составляют полидиметилсилоксановые каучуки  с  невысокой  молекулярной  массой,  имеющие на концах цепи или у атомов кремния в середине цепи ненасыщенные (обычно винильные) группы.  Отверждение  композиций  осуществляется в результате взаимодействия функциональных групп молекул  каучука  с  полифункциональными  олигомерными  метилгидридсилоксанами  в  присутствии катализатора.\\n\\nВарьирование  числа  и  расположения  функциональных групп в молекуле каучука,  его  молекулярной  массы,  концентрации  каучука  в  композиции, типа наполнителя, вулканизующего агента и условий вулканизации позволяет в широких пределах изменять как время жизни композиции и способ ее переработки, так и физико-механические свойства получаемых материалов [5, 9, 10].\\n\\nВ последнее время все большее значение приобретает проблема создания LSR-композиций, устойчивых к действию различных органических масел и топлив. В качестве основы таких композиций наиболее  перспективными  являются  жидкие  фторсилоксановые  каучуки,  которые  обладают  маслобензостойкостью и сохраняют рабочие характеристики в  условиях  как  низких,  так  и  высоких  температур [11-13]. Для снижения стоимости материалов, наряду с «чистыми» метил( γ -трифторпропил)силоксановыми каучуками могут быть использованы их смеси с  диметилсилоксановыми  каучуками  или  сополимеры, содержащие в своем составе как диметилсилоксо-, так и метил( γ -трифторпропил)силоксизвенья. Использование сополимеров предпочтительнее, так как  композиции  на  основе  смеси  диметилсилоксанового и метил( γ -трифторпропил)силоксанового каучуков  из-за  их  плохой  совместимости  обладают более низкими характеристиками [13].\\n\\nБлагодаря своей маслобензостойкости резины на основе фторсилоксановых каучуков используют в основном в виде уплотнений и прокладок для различных узлов и агрегатов. В качестве прокладочных материалов наряду с резиновыми уплотнениями широкое применение находят изделия из пробки, обладающие комплексом ценных физико-механических свойств низким  удельным  весом,  низкой  теплопроводностью,  хорошими  звукоизоляционными  и  бактерицидными  свойствами,  стабильностью  внутренней структуры  [14,  15].  Однако  пробка  обладает  рядом недостатков,  ограничивающих  ее  использование  в качестве прокладочного материала: пробковые материалы  хорошо  впитывают  воду  и  другие  растворители;  изделия  из  чистой  пробки  обладают  низкими прочностными  характеристиками.  Для  преодоления\\n\\nуказанных  недостатков  применяют  композиционные материалы из измельченной пробки и полимерного связующего. Например, разработан материал на основе измельченной пробки и уретанового каучука СКУ-8, в котором содержание пробки составляет от 80 до 90 %  [16]. При этом его прочностные показатели значительно улучшены.\\n\\nИспользование  фторсилоксановых  каучуков в качестве  связующего  для  композиций  на  основе пробки  позволит  значительно  снизить  стоимость изделий  и  получить  легкий  материал,  обладающий маслобензостойкостью  и  по  прочностным  характеристикам превосходящий натуральную пробку.\\n\\nЦелью настоящей работы является разработка и исследование свойств материалов на основе сополимерного  фторсилоксанового  каучука,  содержащего диметилсилокси-  и  метил( γ -трифторпропил)силоксизвенья (ФСК),  и измельченной пробки.\\n\\nНа  первом  этапе  исследовано  влияние  молекулярной массы и состава каучука на  физикомеханические свойства вулканизатов. Были использованы каучуки с концевыми винильными группами: диметилсилоксановый  с  вязкостью  (здесь  и  далее при  25  °С)  5  Па·с  (ДВК-5);  каучуки  ФСК  с  содержанием  метил( γ -трифторпропил)силоксизвеньев 33 % (мол.) и вязкостью 27 Па·с (ФСК-27) и с содержанием  метил( γ -трифторпропил)силоксизвеньев 50  %  (мол.)  с  вязкостью  6  (ФСК-6),  35  (ФСК-35), 85 (ФСК-85) и 140 Па·с (ФСК-140), а также высокомолекулярный  метил( γ -трифторпропил)силоксановый каучук, содержащий 0,3-0,5 % (мол.) винильных групп (ВМФСК)*. В качестве наполнителя использовали пирогенный диоксид кремния.\\n\\nКомпозиции готовили на Z-образном резиносмесителе. В смесь каучука с наполнителем вводили платиновый катализатор (раствор комплекса Карстеда в  этиловом  спирте  с  концентрацией  30  мг  Pt/мл), ингибитор, сшивающий агент и тщательно перемешивали. Полученные композиции могут храниться при комнатной температуре не менее недели. Приготовленные  смеси  отверждали  в  течение  2  ч при 150 °С.\\n\\nПрочность  вулканизованных  композиций  при растяжении определяли на разрывной машине фирмы  ZWICK  по  ГОСТ  270-75,  твердость  -  по ГОСТ  263-75. Оценку устойчивости вулканизатов  к  действию  трансформаторного  масла  ГК  (ТУ 38.1011025-85) проводили при температуре 100 °С в течение 24 ч по ГОСТ 9.030-74.\\n\\nФизико-механические свойства вулканизатов приведены в табл. 1.\\n\\nКак видно из данных табл. 1, прочность вулканизатов на основе жидких фторсилоксановых каучуков практически не зависит от вязкости исходного каучука и составляет 5,2±0,2 МПа (ФСК-6 -ФСК-140), что  несколько  ниже,  чем  прочность  вулканизатов на основе высокомолекулярного каучука ВМФСК, но  выше,  чем  прочность  вулканизатов  на  основе чистого диметилсилоксанового каучука ДВК-5.\\n\\n* Каучуки предоставлены компанией «Пента».\\n\\nТаблица 1. Влияние содержания метил( γ -трифторпропил)силоксизвеньев на свойства композиций на основе изученных фторсилоксановых каучуков, вулканизованных по реакции гидросилилирования\\n\\n| Каучук   |   С зв , %(мол.) | f p ,МПа   |   ε р ,% |   Н А , усл.ед. | θ ,%   | θ , %(мас.)   |\\n|----------|------------------|------------|----------|-----------------|--------|---------------|\\n| ДВК-5    |                0 | 3,5        |      420 |              25 | <10    | 49            |\\n| ФСК-27   |               33 | 4,6        |      750 |              18 | <10    | 11            |\\n| ФСК-6    |               50 | 5,4        |      420 |              35 | <10    | 5,5           |\\n| ФСК-35   |               50 | 5,2        |      475 |              30 | <10    | 5,3           |\\n| ФСК-85   |               50 | 5,4        |      630 |              23 | <10    | 5,8           |\\n| ФСК-140  |               50 | 5,0        |      620 |              20 | <10    | 5,2           |\\n| ВМФСК    |              100 | 6,6        |      650 |              43 | 20     | 0,5           |\\n| ВМФСК*   |              100 | 6,8        |      350 |              42 | 4      | 0,4           |\\n\\nγ ε\\n\\nПримечание. С - содержание метил( -трифторпропил)силоксизвеньев; f - условная прочность при растяжении; - относительное удлинение\\n\\nзв p р при разрыве; θ -  относительное остаточное удлинение после разрыва; θ - степень набухания (трансформаторное масло, 100 °С, 24 ч).\\n\\n- * Композиция вулканизована пероксидом.\\n\\nС увеличением вязкости исходного каучука, содержащего 50 % (мол.) метил( γ -трифторпропил)силоксизвеньев,  относительное  удлинение  при  разрыве вулканизатов  увеличивается.  Относительное  удлинение при разрыве вулканизатов на основе ФСК-6 составляет 420 %, а максимальное значение (630 %) этот  показатель  достигает  при  вязкости  каучука ≥ 85  Па·с;  при  этом  твердость  по  Шору  А  уменьшается (от 35 до 20 усл.ед.). Следует отметить, что пероксидная вулканизация композиции на основе ВМФСК,  по-видимому,  из-за  образования  менее регулярной  вулканизационной  сетки  приводит  к уменьшению  относительного  удлинения  при  разрыве  (до  350  %)  по  сравнению  с  вулканизатом, полученным по реакции гидросилилирования, для которого этот показатель равен 650 %.\\n\\nСтепень набухания вулканизатов в трансформаторном  масле  ГК  закономерно  уменьшается  с  увеличением содержания метил( γ -трифторпропил)силоксизвеньев  (рисунок).  Видно,  что  набухание вулканизата на основе  чистого  диметилсилоксанового  каучука  в  трансформаторном  масле  составляет 49 % (мас.). При введении 33 % (мол.) метил( γ -трифторпропил)силоксизвеньев  степень набухания вулканизата снижается до 11 % (мас.). Для композиций на основе каучука ВМФСК, содержащего более 99 % (мол.) метил( γ -трифторпропил)силоксизвеньев, степень набухания вулканизата составляет всего 0,5 % (мас.). Следует отметить, что набухание композиций на основе каучуков, содержащих 50 % (мол.) метил( γ -трифторпропил)силоксизвеньев и обладающих различной вязкостью, практически одинаково и составляет 5,5±0,3 % (мас.) (см. табл.1). Таким образом,  показано,  что  степень  набухания  композиций с  различной  молекулярной  массой  зависит  только от  содержания  метил( γ -трифторпропил)силоксизвеньев.\\n\\nЗатем  были  исследованы  композиции,  которые помимо пирогенного диоксида кремния содержали измельченную пробку (диаметр частиц &lt; 2 мм).\\n\\nПоскольку  пробка  как  наполнитель  не  обладает усиливающим действием, сначала была приготовлена композиция на основе низковязкого ФСК,\\n\\nсодержащая в равных соотношениях измельченную пробку  и  пирогенный  диоксид  кремния.  Однако полученный  вулканизат  обладал  низкими  физикомеханическими свойствами. Для повышения прочностных свойств с сохранением технологичности при переработке были получены композиции на основе смеси 75 мас.ч. ФСК-6 и 25 мас.ч. ВМФСК.\\n\\nКомпоненты  смешивали  по  приведенной  выше методике. В полученную смесь вводили платиновый катализатор,  ингибитор,  сшивающий  агент  и  тщательно  перемешивали.  Вулканизацию  проводили  в прессе при давлении 15 МПа (150 атм) и температуре 150 °С в течение 10 мин. После вулканизации наблюдалась  значительное  увеличение  размеров  готового изделия - по длине и ширине на 10 %, а по толщине на 25 %.\\n\\nФизико-механические  свойства вулканизованных композиций представлены в табл. 2. Из приведенных данных видно, что для композиций на основе смеси низкомолекулярного и высокомолекулярного каучуков при увеличении содержания пробки от 35 до 60 мас.ч. на 100 мас.ч. смеси каучуков прочность композиций  практически  не  изменяется  (~  1,0  МПа). Увеличение  прочности  композиции  до  1,7  МПа наблюдается  лишь  при  использовании  в  качест-\\n\\nЗависимость набухания вулканизатов в трансформаторном масле ГК (100 °С, 24 ч) от содержания метил( γ -трифторпропил)силоксизвеньев.\\n\\nThe image is a line graph that shows the percentage of people who use a particular product or service as of 2020. The x-axis represents the percentage of people who use the product or service, ranging from 0% to 50%. The y-axis represents the percentage of people who use the product or service, ranging from 0% to 50%.\\n\\n### Description of the Graph:\\n- **Title**: The title of the graph is \"Q, % (Mac.)\"\\n- **X-Axis**: The X-axis is labeled \"Q,\" and it ranges from 0% to 50%.\\n- **Y-Axis**: The Y-axis is labeled \"Q,\" and it ranges from 0% to 50%.\\n- **Data Points**: There are two data points plotted on the graph. The first data point is at 0% and the second data point is at 50%.\\n-\\n\\n<!-- image -->\\n\\nТаблица 2. Влияние содержания пробки на физико-механические свойства  композиций  на  основе  фторсилоксановых  каучуков\\n\\nВМФСК и ФСК-6\\n\\n| ВМФСК:ФСК-6 (мас.)   |   С пр , мас.ч. | f p ,МПа   |   ε р ,% | θ ,% (мас.)   |\\n|----------------------|-----------------|------------|----------|---------------|\\n| 25 : 75              |              35 | 1,0        |       40 | 3,2           |\\n| 25 : 75              |              45 | 1,2        |       40 | 3,2           |\\n| 25 : 75              |              60 | 1,0        |       40 | 2,8           |\\n| 100 : 0              |              60 | 1,7        |       40 | 4,0           |\\n\\nПримечание. С пр - содержание пробки. См. также примечание к табл. 1.\\n\\n## ве  основы  100  %  высокомолекулярного  каучука ВМФСК.\\n\\nИсследование стойкости вулканизатов к действию трансформаторного масла ГК показало, что введение пробки не ухудшает маслостойкость материалов, полученных на основе низкомолекулярных каучуков ФСК. В то же время набухание композиций на основе высокомолекулярного  каучука  ВМФСК  и  измельченной пробки практически на порядок больше (до 4 % (мас.)) по сравнению с композициями на основе этого же каучука,  но  не  содержащими  пробки  (см.  табл.1).  Более высокая степень набухания композиции с измельченной пробкой на основе ВМФСК по сравнению с ФСК, по-видимому, связана с плохим смачиванием поверхности пробки высокомолекулярным каучуком, а количество масла, поглощенного композицией, зависит от сорбирующей способности пробки.\\n\\nНа относительное удлинение при разрыве исследованных  композиций  не  оказывает  влияния  ни содержание пробки, ни содержание ВМФСК.\\n\\nТаким образом, на основании полученных результатов можно сделать следующие выводы.\\n\\n- ·  Разработаны  композиции  на  основе  жидких фторсилоксановых каучуков, отверждаемые по реакции гидросилилирования.\\n- · Установлено, что маслостойкость исследованных  композиций  улучшается  с  увеличением  содержания метил( γ -трифторпропил)силоксизвеньев и при прочих равных условиях не зависит от молекулярной массы каучука.\\n- · Несмотря на некоторое снижение прочности вулканизатов при введении молотой пробки их прочность  выше,  чем  прочность  материалов  на  основе чистой пробки, а маслостойкость вулканизатов при введении молотой пробки не изменяется.\\n\\n## Библиографический список\\n\\n- 1. Найтс М. http://www.newchemistry.ru/letter.php?n\\\\_ id=1749&amp;cat\\\\_id=&amp;sword=Литьевые\\n- 2. http://www.battenfeld.ru/html/4\\\\_lim.html  (17  Int.  Conf. &amp; Exhibit, Austin Texas / MOLDING 2007).\\n- 3. Пат. 326093/93 Япония: МКИ C 08 K 3/36, C 08 L 27/12, C 08 L 83/08.\\n- 4. Пат.  117010/92  Япония: МКИ C 09 D 183/04, C 04 B 26/32, C 04 B 28/02, C 09 D 5/14.\\n- 5. Пат. 5597584. США:  МКИ A 61K 9/14.\\n- 6. Пат. 101278089 Канада: МКИ D 06 M 15/643, C 08 L 83/04, D 06 M 15/647, D 06 N 3/12.\\n- 7. Пат. 0819736A1 Г ермании: МКИ C 08 L 83/04, C 08 K 5/14.\\n- 8. Пат. 2005029670 Япония: МКИ C 08 L 83/04.\\n- 9. Нанушьян  С.Р.,  Алексеева  Е.И.,  Полеес  А.Б. Свойства и области применения кремнийорганических композиций  ускоренной  вулканизации,  М.:  НИИТЭХИМ, 1985. С. 15.\\n- 10. Пат. 0512193 Великобритания: МКИ C 08 K 3/34.\\n- 11. Romanowski R., Irish P.T., Olsen Ch.W.Jr., Tonge L.M. // Int. Silicone Conf. 2003. (Akron, Ohio,  USA). http://www. dowcorning.com.cn/zh\\\\_CN/content/publishedlit/451237.pdf\\n- 12. Franssen O., Bo ß hammer St., Riley G., Toub M. // Rubbers, Fibres, Plastics. 2008. V.3. N1. P . 34.\\n- 13. Dow Corning Corporation. (http://www.dowcorning.com/ content/publishedlit/45-1537-01.pdf)\\n- 14. Компания  Corkpad  http://www.corkpad.com.ua/aboutprobka.html\\n- 15. Компания Фортехникс. http://www.fortechnics.ru/ product/packing/cork.htm\\n- 16. Шильникова  Н.В.,  Зенитова  Л.А.,  Муратова  Г.Я. // Электронный журн. «Исследовано в России». 2001. C. 823. http://zhurnal.ape.relarn.ru/articles/2001/075.pdf\\n\\nПоступила в редакцию 5.12.2008.\\n\\n## ВЛИЯНИЕ КОАГУЛИРУЮЩЕГО АГЕНТА НА ОСНОВЕ ЧЕТВЕРТИЧНОЙ СОЛИ АММОНИЯ НА СВОЙСТВА БУТАДИЕН-СТИРОЛЬНОГО КАУЧУКА, РЕЗИНОВЫХ СМЕСЕЙ И ВУЛКАНИЗАТОВ\\n\\nНикулин  С.С.*,  Карманова  О.В.**,  Пояркова  Т.Н.*** (*Воронежская  государственная  лесотехническая  академия, **Воронежская государственная технологическая академия, ***Воронежский государственный университет)\\n\\nКаучуки, получаемые методом эмульсионной сополимеризации бутадиена с винилароматическими мономерами обладают комплексом положительных свойств. Производство эмульсионных каучуков включает  в  себя  стадию  выделения,  где  в  качестве коагулирующих агентов применяют соли неорганических кислот и минеральные кислоты, обладающие достаточно высокой эффективностью и относительной  дешевизной  [1].  Однако  выделение  каучуков из  латексов  сопровождается  сбросом  в  природные водоемы большого количества сточных вод,  содержащих значительные количества солей минеральных и органических кислот, что приводит к  загрязнению водоемов и возникновению экологических проблем.\\n\\nВ настоящее время продолжаются активные исследования по совершенствованию процесса получения синтетических латексов и эмульсионных каучуков.  При  этом  наибольшее  внимание  уделено разработкам  новых  эмульгирующих  систем,  обладающих  невысокой  биологической  стойкостью  и'"
      ]
     },
     "execution_count": 18,
     "metadata": {},
     "output_type": "execute_result"
    }
   ],
   "source": [
    "conv_result.document.export_to_markdown()"
   ]
  },
  {
   "cell_type": "code",
   "execution_count": 23,
   "id": "20d0e40e-077a-42dc-98b5-0dccc59d76ee",
   "metadata": {},
   "outputs": [
    {
     "data": {
      "text/html": [
       "<h3>Picture <code>#/pictures/0</code></h3><img src=\"data:image/png;base64,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\" /><br /><h4>Caption</h4>Зависимость набухания вулканизатов в трансформаторном масле ГК (100 °С, 24 ч) от содержания метил( γ -трифторпропил)силоксизвеньев.<br /><h4>Annotations (HuggingFaceTB/SmolVLM-256M-Instruct)</h4>The line on the right side of the graph shows the percentage of the total amount of CO2 that was removed from the atmosphere over time. The line shows a decrease in the amount of CO2 removed from the atmosphere over time.<br />\n"
      ],
      "text/plain": [
       "<IPython.core.display.HTML object>"
      ]
     },
     "execution_count": 23,
     "metadata": {},
     "output_type": "execute_result"
    }
   ],
   "source": [
    "from docling_core.types.doc.document import PictureDescriptionData\n",
    "from IPython import display\n",
    "\n",
    "html_buffer = []\n",
    "# display the first 5 pictures and their captions and annotations:\n",
    "for pic in conv_result.document.pictures[:5]:\n",
    "    html_item = (\n",
    "        f\"<h3>Picture <code>{pic.self_ref}</code></h3>\"\n",
    "        f'<img src=\"{pic.image.uri!s}\" /><br />'\n",
    "        f\"<h4>Caption</h4>{pic.caption_text(doc=conv_result.document)}<br />\"\n",
    "    )\n",
    "    for annotation in pic.annotations:\n",
    "        if not isinstance(annotation, PictureDescriptionData):\n",
    "            continue\n",
    "        html_item += (\n",
    "            f\"<h4>Annotations ({annotation.provenance})</h4>{annotation.text}<br />\\n\"\n",
    "        )\n",
    "    html_buffer.append(html_item)\n",
    "display.HTML(\"<hr />\".join(html_buffer))"
   ]
  },
  {
   "cell_type": "code",
   "execution_count": null,
   "id": "7be16090-407c-486a-b6aa-3a71cfd7c084",
   "metadata": {},
   "outputs": [],
   "source": []
  },
  {
   "cell_type": "code",
   "execution_count": null,
   "id": "eb966181-ee44-4fa1-b42b-4c29f86e45b4",
   "metadata": {},
   "outputs": [],
   "source": []
  },
  {
   "cell_type": "code",
   "execution_count": null,
   "id": "29d5a57c-dd58-4b31-9855-f581fb8555d0",
   "metadata": {},
   "outputs": [],
   "source": []
  },
  {
   "cell_type": "code",
   "execution_count": null,
   "id": "135405df-7ad5-4464-a0cd-44fcd80de30f",
   "metadata": {},
   "outputs": [],
   "source": [
    "def extract_text_from_pdf(pdf_path):\n",
    "    \"\"\"\n",
    "    Extracts text from a PDF file and prints the first `num_chars` characters.\n",
    "\n",
    "    Args:\n",
    "    pdf_path (str): Path to the PDF file.\n",
    "\n",
    "    Returns:\n",
    "    str: Extracted text from the PDF.\n",
    "    \"\"\"\n",
    "    # Open the PDF file\n",
    "    mypdf = fitz.open(pdf_path)\n",
    "    all_text = \"\"  # Initialize an empty string to store the extracted text\n",
    "\n",
    "    # Iterate through each page in the PDF\n",
    "    for page_num in range(mypdf.page_count):\n",
    "        page = mypdf[page_num]  # Get the page\n",
    "        text = page.get_text(\"text\")  # Extract text from the page\n",
    "        all_text += text  # Append the extracted text to the all_text string\n",
    "\n",
    "    return all_text  # Return the extracted text"
   ]
  }
 ],
 "metadata": {
  "kernelspec": {
   "display_name": "Python3 (main venv)",
   "language": "python",
   "name": "main"
  },
  "language_info": {
   "codemirror_mode": {
    "name": "ipython",
    "version": 3
   },
   "file_extension": ".py",
   "mimetype": "text/x-python",
   "name": "python",
   "nbconvert_exporter": "python",
   "pygments_lexer": "ipython3",
   "version": "3.12.11"
  }
 },
 "nbformat": 4,
 "nbformat_minor": 5
}
