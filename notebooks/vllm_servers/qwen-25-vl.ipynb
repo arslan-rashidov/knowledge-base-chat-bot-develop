{
 "cells": [
  {
   "cell_type": "code",
   "execution_count": 1,
   "id": "4390e017-30b9-43b3-b7a9-6858a63e31c3",
   "metadata": {},
   "outputs": [],
   "source": [
    "import base64\n",
    "import requests"
   ]
  },
  {
   "cell_type": "code",
   "execution_count": 2,
   "id": "3af6f8f2-613b-4b0b-a079-81bb9d5e38af",
   "metadata": {},
   "outputs": [],
   "source": [
    "import torch\n",
    "def display_vram_stats():\n",
    "    left, total = torch.cuda.mem_get_info()\n",
    "    print(f\"Used space - {total/1024/1024/1024 - left/1024/1024/1024}GB/{total/1024/1024/1024}GB\")\n",
    "    return left"
   ]
  },
  {
   "cell_type": "code",
   "execution_count": 3,
   "id": "87b0de4c-a1cc-45ee-8e56-43ee359962d2",
   "metadata": {},
   "outputs": [
    {
     "name": "stdout",
     "output_type": "stream",
     "text": [
      "Used space - 0.27069091796875GB/23.5882568359375GB\n"
     ]
    },
    {
     "data": {
      "text/plain": [
       "25037045760"
      ]
     },
     "execution_count": 3,
     "metadata": {},
     "output_type": "execute_result"
    }
   ],
   "source": [
    "display_vram_stats()"
   ]
  },
  {
   "cell_type": "markdown",
   "id": "430162c7-03b4-4305-b7e7-6f5dcc20838c",
   "metadata": {},
   "source": [
    "# Specs: RTX 3090, 24GB VRAM"
   ]
  },
  {
   "cell_type": "markdown",
   "id": "abcde414-10b8-45d1-b047-634d5fc0402b",
   "metadata": {},
   "source": [
    "## Instruct 3B float16"
   ]
  },
  {
   "cell_type": "markdown",
   "id": "d4cf850b-016b-4cb2-9df2-6c609dcfa573",
   "metadata": {},
   "source": [
    "### Before model download\n"
   ]
  },
  {
   "cell_type": "code",
   "execution_count": 104,
   "id": "b0308b17-a88a-47f0-82f4-efb44aeb7408",
   "metadata": {},
   "outputs": [
    {
     "name": "stdout",
     "output_type": "stream",
     "text": [
      "Used space - 2.59423828125GB/23.5882568359375GB\n"
     ]
    }
   ],
   "source": [
    "before_space = display_vram_stats()"
   ]
  },
  {
   "cell_type": "markdown",
   "id": "8f0a7fc6-bcf7-4ffc-90ee-e37787f89a16",
   "metadata": {},
   "source": [
    "#### After model download. Specs: RTX 3090, 24GB VRAM\n",
    "\n",
    "Engine 000: Avg prompt throughput: 7.3 tokens/s, Avg generation throughput: 1.5 tokens/s"
   ]
  },
  {
   "cell_type": "code",
   "execution_count": 11,
   "id": "555d0acd-6cbe-4bb2-b7b8-a52e0d24abca",
   "metadata": {},
   "outputs": [
    {
     "name": "stdout",
     "output_type": "stream",
     "text": [
      "Used space - 21.45489501953125GB/23.5882568359375GB\n"
     ]
    }
   ],
   "source": [
    "after_space = display_vram_stats()"
   ]
  },
  {
   "cell_type": "markdown",
   "id": "f7c1d7d9-de4c-45f0-be2a-ad2494e315c4",
   "metadata": {},
   "source": [
    "## Instruct 7B float16 AWQ"
   ]
  },
  {
   "cell_type": "markdown",
   "id": "8c302af3-0d10-475b-b771-0f1826fff477",
   "metadata": {},
   "source": [
    "## Model Tests"
   ]
  },
  {
   "cell_type": "code",
   "execution_count": 4,
   "id": "041a2196-c4e7-4219-9911-22462c46dbd6",
   "metadata": {},
   "outputs": [],
   "source": [
    "from pydantic import BaseModel\n",
    "from openai import OpenAI\n",
    "\n",
    "class Annotation(BaseModel):\n",
    "    table_name: str\n",
    "    table_description: str\n",
    "\n",
    "class PageTablesAnnotations(BaseModel):\n",
    "    annotations: list[Annotation]"
   ]
  },
  {
   "cell_type": "code",
   "execution_count": 5,
   "id": "0606caeb-7c0e-4417-a8b5-d7930bf47056",
   "metadata": {},
   "outputs": [],
   "source": [
    "response_format= {\n",
    "            \"type\": \"json_schema\",\n",
    "            \"json_schema\": {\n",
    "                \"name\": \"PageTablesAnnotations\",\n",
    "                \"schema\": PageTablesAnnotations.model_json_schema(),\n",
    "            },\n",
    "        }"
   ]
  },
  {
   "cell_type": "code",
   "execution_count": 6,
   "id": "a7da6cf9-f9e8-44c2-90f7-e6db0922bfe0",
   "metadata": {},
   "outputs": [
    {
     "data": {
      "text/plain": [
       "{'type': 'json_schema',\n",
       " 'json_schema': {'name': 'PageTablesAnnotations',\n",
       "  'schema': {'$defs': {'Annotation': {'properties': {'table_name': {'title': 'Table Name',\n",
       "       'type': 'string'},\n",
       "      'table_description': {'title': 'Table Description', 'type': 'string'}},\n",
       "     'required': ['table_name', 'table_description'],\n",
       "     'title': 'Annotation',\n",
       "     'type': 'object'}},\n",
       "   'properties': {'annotations': {'items': {'$ref': '#/$defs/Annotation'},\n",
       "     'title': 'Annotations',\n",
       "     'type': 'array'}},\n",
       "   'required': ['annotations'],\n",
       "   'title': 'PageTablesAnnotations',\n",
       "   'type': 'object'}}}"
      ]
     },
     "execution_count": 6,
     "metadata": {},
     "output_type": "execute_result"
    }
   ],
   "source": [
    "response_format"
   ]
  },
  {
   "cell_type": "code",
   "execution_count": 7,
   "id": "6d61b897-9178-4961-851c-b0b5cb3ab1c6",
   "metadata": {},
   "outputs": [],
   "source": [
    "# @title inference function with API\n",
    "def get_response(model, system_prompt, base64_image, query, url=\"http://localhost:8000/v1/chat/completions\", min_pixels=512*28*28, max_pixels=2048*28*28):\n",
    "    \n",
    "    messages = [\n",
    "            {\"role\": \"system\", \"content\": system_prompt},\n",
    "            {\"role\": \"user\", \"content\": [\n",
    "                {\"type\": \"image_url\", \"image_url\": {\"url\": f\"data:image/png;base64,{str(base64_image)}\"}},\n",
    "                {\"type\": \"text\", \"text\": query}\n",
    "            ]}\n",
    "        ]\n",
    "    \n",
    "    headers = {\n",
    "        \"Content-Type\": \"application/json\"\n",
    "    }\n",
    "    data = {\n",
    "        \"model\": model,\n",
    "        \"messages\": messages,\n",
    "        #\"extra_body\": {\"guided_json\": response_format},\n",
    "        \"response_format\": response_format,\n",
    "        \"temperature\": 0.0\n",
    "    }\n",
    "\n",
    "    response = requests.post(url, headers=headers, json=data)\n",
    "    \n",
    "    return response.json()\n",
    "    "
   ]
  },
  {
   "cell_type": "code",
   "execution_count": 8,
   "id": "b3f00c95-7aba-41e7-92bd-803e2285d5ea",
   "metadata": {},
   "outputs": [
    {
     "ename": "ConnectionError",
     "evalue": "HTTPConnectionPool(host='localhost', port=8000): Max retries exceeded with url: /v1/chat/completions (Caused by NewConnectionError('<urllib3.connection.HTTPConnection object at 0x7f5ac925e920>: Failed to establish a new connection: [Errno 111] Connection refused'))",
     "output_type": "error",
     "traceback": [
      "\u001b[0;31m---------------------------------------------------------------------------\u001b[0m",
      "\u001b[0;31mConnectionRefusedError\u001b[0m                    Traceback (most recent call last)",
      "File \u001b[0;32m/venv/kb_dev/lib/python3.10/site-packages/urllib3/connection.py:198\u001b[0m, in \u001b[0;36mHTTPConnection._new_conn\u001b[0;34m(self)\u001b[0m\n\u001b[1;32m    197\u001b[0m \u001b[38;5;28;01mtry\u001b[39;00m:\n\u001b[0;32m--> 198\u001b[0m     sock \u001b[38;5;241m=\u001b[39m \u001b[43mconnection\u001b[49m\u001b[38;5;241;43m.\u001b[39;49m\u001b[43mcreate_connection\u001b[49m\u001b[43m(\u001b[49m\n\u001b[1;32m    199\u001b[0m \u001b[43m        \u001b[49m\u001b[43m(\u001b[49m\u001b[38;5;28;43mself\u001b[39;49m\u001b[38;5;241;43m.\u001b[39;49m\u001b[43m_dns_host\u001b[49m\u001b[43m,\u001b[49m\u001b[43m \u001b[49m\u001b[38;5;28;43mself\u001b[39;49m\u001b[38;5;241;43m.\u001b[39;49m\u001b[43mport\u001b[49m\u001b[43m)\u001b[49m\u001b[43m,\u001b[49m\n\u001b[1;32m    200\u001b[0m \u001b[43m        \u001b[49m\u001b[38;5;28;43mself\u001b[39;49m\u001b[38;5;241;43m.\u001b[39;49m\u001b[43mtimeout\u001b[49m\u001b[43m,\u001b[49m\n\u001b[1;32m    201\u001b[0m \u001b[43m        \u001b[49m\u001b[43msource_address\u001b[49m\u001b[38;5;241;43m=\u001b[39;49m\u001b[38;5;28;43mself\u001b[39;49m\u001b[38;5;241;43m.\u001b[39;49m\u001b[43msource_address\u001b[49m\u001b[43m,\u001b[49m\n\u001b[1;32m    202\u001b[0m \u001b[43m        \u001b[49m\u001b[43msocket_options\u001b[49m\u001b[38;5;241;43m=\u001b[39;49m\u001b[38;5;28;43mself\u001b[39;49m\u001b[38;5;241;43m.\u001b[39;49m\u001b[43msocket_options\u001b[49m\u001b[43m,\u001b[49m\n\u001b[1;32m    203\u001b[0m \u001b[43m    \u001b[49m\u001b[43m)\u001b[49m\n\u001b[1;32m    204\u001b[0m \u001b[38;5;28;01mexcept\u001b[39;00m socket\u001b[38;5;241m.\u001b[39mgaierror \u001b[38;5;28;01mas\u001b[39;00m e:\n",
      "File \u001b[0;32m/venv/kb_dev/lib/python3.10/site-packages/urllib3/util/connection.py:85\u001b[0m, in \u001b[0;36mcreate_connection\u001b[0;34m(address, timeout, source_address, socket_options)\u001b[0m\n\u001b[1;32m     84\u001b[0m \u001b[38;5;28;01mtry\u001b[39;00m:\n\u001b[0;32m---> 85\u001b[0m     \u001b[38;5;28;01mraise\u001b[39;00m err\n\u001b[1;32m     86\u001b[0m \u001b[38;5;28;01mfinally\u001b[39;00m:\n\u001b[1;32m     87\u001b[0m     \u001b[38;5;66;03m# Break explicitly a reference cycle\u001b[39;00m\n",
      "File \u001b[0;32m/venv/kb_dev/lib/python3.10/site-packages/urllib3/util/connection.py:73\u001b[0m, in \u001b[0;36mcreate_connection\u001b[0;34m(address, timeout, source_address, socket_options)\u001b[0m\n\u001b[1;32m     72\u001b[0m     sock\u001b[38;5;241m.\u001b[39mbind(source_address)\n\u001b[0;32m---> 73\u001b[0m \u001b[43msock\u001b[49m\u001b[38;5;241;43m.\u001b[39;49m\u001b[43mconnect\u001b[49m\u001b[43m(\u001b[49m\u001b[43msa\u001b[49m\u001b[43m)\u001b[49m\n\u001b[1;32m     74\u001b[0m \u001b[38;5;66;03m# Break explicitly a reference cycle\u001b[39;00m\n",
      "\u001b[0;31mConnectionRefusedError\u001b[0m: [Errno 111] Connection refused",
      "\nThe above exception was the direct cause of the following exception:\n",
      "\u001b[0;31mNewConnectionError\u001b[0m                        Traceback (most recent call last)",
      "File \u001b[0;32m/venv/kb_dev/lib/python3.10/site-packages/urllib3/connectionpool.py:787\u001b[0m, in \u001b[0;36mHTTPConnectionPool.urlopen\u001b[0;34m(self, method, url, body, headers, retries, redirect, assert_same_host, timeout, pool_timeout, release_conn, chunked, body_pos, preload_content, decode_content, **response_kw)\u001b[0m\n\u001b[1;32m    786\u001b[0m \u001b[38;5;66;03m# Make the request on the HTTPConnection object\u001b[39;00m\n\u001b[0;32m--> 787\u001b[0m response \u001b[38;5;241m=\u001b[39m \u001b[38;5;28;43mself\u001b[39;49m\u001b[38;5;241;43m.\u001b[39;49m\u001b[43m_make_request\u001b[49m\u001b[43m(\u001b[49m\n\u001b[1;32m    788\u001b[0m \u001b[43m    \u001b[49m\u001b[43mconn\u001b[49m\u001b[43m,\u001b[49m\n\u001b[1;32m    789\u001b[0m \u001b[43m    \u001b[49m\u001b[43mmethod\u001b[49m\u001b[43m,\u001b[49m\n\u001b[1;32m    790\u001b[0m \u001b[43m    \u001b[49m\u001b[43murl\u001b[49m\u001b[43m,\u001b[49m\n\u001b[1;32m    791\u001b[0m \u001b[43m    \u001b[49m\u001b[43mtimeout\u001b[49m\u001b[38;5;241;43m=\u001b[39;49m\u001b[43mtimeout_obj\u001b[49m\u001b[43m,\u001b[49m\n\u001b[1;32m    792\u001b[0m \u001b[43m    \u001b[49m\u001b[43mbody\u001b[49m\u001b[38;5;241;43m=\u001b[39;49m\u001b[43mbody\u001b[49m\u001b[43m,\u001b[49m\n\u001b[1;32m    793\u001b[0m \u001b[43m    \u001b[49m\u001b[43mheaders\u001b[49m\u001b[38;5;241;43m=\u001b[39;49m\u001b[43mheaders\u001b[49m\u001b[43m,\u001b[49m\n\u001b[1;32m    794\u001b[0m \u001b[43m    \u001b[49m\u001b[43mchunked\u001b[49m\u001b[38;5;241;43m=\u001b[39;49m\u001b[43mchunked\u001b[49m\u001b[43m,\u001b[49m\n\u001b[1;32m    795\u001b[0m \u001b[43m    \u001b[49m\u001b[43mretries\u001b[49m\u001b[38;5;241;43m=\u001b[39;49m\u001b[43mretries\u001b[49m\u001b[43m,\u001b[49m\n\u001b[1;32m    796\u001b[0m \u001b[43m    \u001b[49m\u001b[43mresponse_conn\u001b[49m\u001b[38;5;241;43m=\u001b[39;49m\u001b[43mresponse_conn\u001b[49m\u001b[43m,\u001b[49m\n\u001b[1;32m    797\u001b[0m \u001b[43m    \u001b[49m\u001b[43mpreload_content\u001b[49m\u001b[38;5;241;43m=\u001b[39;49m\u001b[43mpreload_content\u001b[49m\u001b[43m,\u001b[49m\n\u001b[1;32m    798\u001b[0m \u001b[43m    \u001b[49m\u001b[43mdecode_content\u001b[49m\u001b[38;5;241;43m=\u001b[39;49m\u001b[43mdecode_content\u001b[49m\u001b[43m,\u001b[49m\n\u001b[1;32m    799\u001b[0m \u001b[43m    \u001b[49m\u001b[38;5;241;43m*\u001b[39;49m\u001b[38;5;241;43m*\u001b[39;49m\u001b[43mresponse_kw\u001b[49m\u001b[43m,\u001b[49m\n\u001b[1;32m    800\u001b[0m \u001b[43m\u001b[49m\u001b[43m)\u001b[49m\n\u001b[1;32m    802\u001b[0m \u001b[38;5;66;03m# Everything went great!\u001b[39;00m\n",
      "File \u001b[0;32m/venv/kb_dev/lib/python3.10/site-packages/urllib3/connectionpool.py:493\u001b[0m, in \u001b[0;36mHTTPConnectionPool._make_request\u001b[0;34m(self, conn, method, url, body, headers, retries, timeout, chunked, response_conn, preload_content, decode_content, enforce_content_length)\u001b[0m\n\u001b[1;32m    492\u001b[0m \u001b[38;5;28;01mtry\u001b[39;00m:\n\u001b[0;32m--> 493\u001b[0m     \u001b[43mconn\u001b[49m\u001b[38;5;241;43m.\u001b[39;49m\u001b[43mrequest\u001b[49m\u001b[43m(\u001b[49m\n\u001b[1;32m    494\u001b[0m \u001b[43m        \u001b[49m\u001b[43mmethod\u001b[49m\u001b[43m,\u001b[49m\n\u001b[1;32m    495\u001b[0m \u001b[43m        \u001b[49m\u001b[43murl\u001b[49m\u001b[43m,\u001b[49m\n\u001b[1;32m    496\u001b[0m \u001b[43m        \u001b[49m\u001b[43mbody\u001b[49m\u001b[38;5;241;43m=\u001b[39;49m\u001b[43mbody\u001b[49m\u001b[43m,\u001b[49m\n\u001b[1;32m    497\u001b[0m \u001b[43m        \u001b[49m\u001b[43mheaders\u001b[49m\u001b[38;5;241;43m=\u001b[39;49m\u001b[43mheaders\u001b[49m\u001b[43m,\u001b[49m\n\u001b[1;32m    498\u001b[0m \u001b[43m        \u001b[49m\u001b[43mchunked\u001b[49m\u001b[38;5;241;43m=\u001b[39;49m\u001b[43mchunked\u001b[49m\u001b[43m,\u001b[49m\n\u001b[1;32m    499\u001b[0m \u001b[43m        \u001b[49m\u001b[43mpreload_content\u001b[49m\u001b[38;5;241;43m=\u001b[39;49m\u001b[43mpreload_content\u001b[49m\u001b[43m,\u001b[49m\n\u001b[1;32m    500\u001b[0m \u001b[43m        \u001b[49m\u001b[43mdecode_content\u001b[49m\u001b[38;5;241;43m=\u001b[39;49m\u001b[43mdecode_content\u001b[49m\u001b[43m,\u001b[49m\n\u001b[1;32m    501\u001b[0m \u001b[43m        \u001b[49m\u001b[43menforce_content_length\u001b[49m\u001b[38;5;241;43m=\u001b[39;49m\u001b[43menforce_content_length\u001b[49m\u001b[43m,\u001b[49m\n\u001b[1;32m    502\u001b[0m \u001b[43m    \u001b[49m\u001b[43m)\u001b[49m\n\u001b[1;32m    504\u001b[0m \u001b[38;5;66;03m# We are swallowing BrokenPipeError (errno.EPIPE) since the server is\u001b[39;00m\n\u001b[1;32m    505\u001b[0m \u001b[38;5;66;03m# legitimately able to close the connection after sending a valid response.\u001b[39;00m\n\u001b[1;32m    506\u001b[0m \u001b[38;5;66;03m# With this behaviour, the received response is still readable.\u001b[39;00m\n",
      "File \u001b[0;32m/venv/kb_dev/lib/python3.10/site-packages/urllib3/connection.py:494\u001b[0m, in \u001b[0;36mHTTPConnection.request\u001b[0;34m(self, method, url, body, headers, chunked, preload_content, decode_content, enforce_content_length)\u001b[0m\n\u001b[1;32m    493\u001b[0m     \u001b[38;5;28mself\u001b[39m\u001b[38;5;241m.\u001b[39mputheader(header, value)\n\u001b[0;32m--> 494\u001b[0m \u001b[38;5;28;43mself\u001b[39;49m\u001b[38;5;241;43m.\u001b[39;49m\u001b[43mendheaders\u001b[49m\u001b[43m(\u001b[49m\u001b[43m)\u001b[49m\n\u001b[1;32m    496\u001b[0m \u001b[38;5;66;03m# If we're given a body we start sending that in chunks.\u001b[39;00m\n",
      "File \u001b[0;32m/venv/kb_dev/lib/python3.10/http/client.py:1271\u001b[0m, in \u001b[0;36mHTTPConnection.endheaders\u001b[0;34m(self, message_body, encode_chunked)\u001b[0m\n\u001b[1;32m   1270\u001b[0m     \u001b[38;5;28;01mraise\u001b[39;00m CannotSendHeader()\n\u001b[0;32m-> 1271\u001b[0m \u001b[38;5;28;43mself\u001b[39;49m\u001b[38;5;241;43m.\u001b[39;49m\u001b[43m_send_output\u001b[49m\u001b[43m(\u001b[49m\u001b[43mmessage_body\u001b[49m\u001b[43m,\u001b[49m\u001b[43m \u001b[49m\u001b[43mencode_chunked\u001b[49m\u001b[38;5;241;43m=\u001b[39;49m\u001b[43mencode_chunked\u001b[49m\u001b[43m)\u001b[49m\n",
      "File \u001b[0;32m/venv/kb_dev/lib/python3.10/http/client.py:1031\u001b[0m, in \u001b[0;36mHTTPConnection._send_output\u001b[0;34m(self, message_body, encode_chunked)\u001b[0m\n\u001b[1;32m   1030\u001b[0m \u001b[38;5;28;01mdel\u001b[39;00m \u001b[38;5;28mself\u001b[39m\u001b[38;5;241m.\u001b[39m_buffer[:]\n\u001b[0;32m-> 1031\u001b[0m \u001b[38;5;28;43mself\u001b[39;49m\u001b[38;5;241;43m.\u001b[39;49m\u001b[43msend\u001b[49m\u001b[43m(\u001b[49m\u001b[43mmsg\u001b[49m\u001b[43m)\u001b[49m\n\u001b[1;32m   1033\u001b[0m \u001b[38;5;28;01mif\u001b[39;00m message_body \u001b[38;5;129;01mis\u001b[39;00m \u001b[38;5;129;01mnot\u001b[39;00m \u001b[38;5;28;01mNone\u001b[39;00m:\n\u001b[1;32m   1034\u001b[0m \n\u001b[1;32m   1035\u001b[0m     \u001b[38;5;66;03m# create a consistent interface to message_body\u001b[39;00m\n",
      "File \u001b[0;32m/venv/kb_dev/lib/python3.10/http/client.py:969\u001b[0m, in \u001b[0;36mHTTPConnection.send\u001b[0;34m(self, data)\u001b[0m\n\u001b[1;32m    968\u001b[0m \u001b[38;5;28;01mif\u001b[39;00m \u001b[38;5;28mself\u001b[39m\u001b[38;5;241m.\u001b[39mauto_open:\n\u001b[0;32m--> 969\u001b[0m     \u001b[38;5;28;43mself\u001b[39;49m\u001b[38;5;241;43m.\u001b[39;49m\u001b[43mconnect\u001b[49m\u001b[43m(\u001b[49m\u001b[43m)\u001b[49m\n\u001b[1;32m    970\u001b[0m \u001b[38;5;28;01melse\u001b[39;00m:\n",
      "File \u001b[0;32m/venv/kb_dev/lib/python3.10/site-packages/urllib3/connection.py:325\u001b[0m, in \u001b[0;36mHTTPConnection.connect\u001b[0;34m(self)\u001b[0m\n\u001b[1;32m    324\u001b[0m \u001b[38;5;28;01mdef\u001b[39;00m\u001b[38;5;250m \u001b[39m\u001b[38;5;21mconnect\u001b[39m(\u001b[38;5;28mself\u001b[39m) \u001b[38;5;241m-\u001b[39m\u001b[38;5;241m>\u001b[39m \u001b[38;5;28;01mNone\u001b[39;00m:\n\u001b[0;32m--> 325\u001b[0m     \u001b[38;5;28mself\u001b[39m\u001b[38;5;241m.\u001b[39msock \u001b[38;5;241m=\u001b[39m \u001b[38;5;28;43mself\u001b[39;49m\u001b[38;5;241;43m.\u001b[39;49m\u001b[43m_new_conn\u001b[49m\u001b[43m(\u001b[49m\u001b[43m)\u001b[49m\n\u001b[1;32m    326\u001b[0m     \u001b[38;5;28;01mif\u001b[39;00m \u001b[38;5;28mself\u001b[39m\u001b[38;5;241m.\u001b[39m_tunnel_host:\n\u001b[1;32m    327\u001b[0m         \u001b[38;5;66;03m# If we're tunneling it means we're connected to our proxy.\u001b[39;00m\n",
      "File \u001b[0;32m/venv/kb_dev/lib/python3.10/site-packages/urllib3/connection.py:213\u001b[0m, in \u001b[0;36mHTTPConnection._new_conn\u001b[0;34m(self)\u001b[0m\n\u001b[1;32m    212\u001b[0m \u001b[38;5;28;01mexcept\u001b[39;00m \u001b[38;5;167;01mOSError\u001b[39;00m \u001b[38;5;28;01mas\u001b[39;00m e:\n\u001b[0;32m--> 213\u001b[0m     \u001b[38;5;28;01mraise\u001b[39;00m NewConnectionError(\n\u001b[1;32m    214\u001b[0m         \u001b[38;5;28mself\u001b[39m, \u001b[38;5;124mf\u001b[39m\u001b[38;5;124m\"\u001b[39m\u001b[38;5;124mFailed to establish a new connection: \u001b[39m\u001b[38;5;132;01m{\u001b[39;00me\u001b[38;5;132;01m}\u001b[39;00m\u001b[38;5;124m\"\u001b[39m\n\u001b[1;32m    215\u001b[0m     ) \u001b[38;5;28;01mfrom\u001b[39;00m\u001b[38;5;250m \u001b[39m\u001b[38;5;21;01me\u001b[39;00m\n\u001b[1;32m    217\u001b[0m sys\u001b[38;5;241m.\u001b[39maudit(\u001b[38;5;124m\"\u001b[39m\u001b[38;5;124mhttp.client.connect\u001b[39m\u001b[38;5;124m\"\u001b[39m, \u001b[38;5;28mself\u001b[39m, \u001b[38;5;28mself\u001b[39m\u001b[38;5;241m.\u001b[39mhost, \u001b[38;5;28mself\u001b[39m\u001b[38;5;241m.\u001b[39mport)\n",
      "\u001b[0;31mNewConnectionError\u001b[0m: <urllib3.connection.HTTPConnection object at 0x7f5ac925e920>: Failed to establish a new connection: [Errno 111] Connection refused",
      "\nThe above exception was the direct cause of the following exception:\n",
      "\u001b[0;31mMaxRetryError\u001b[0m                             Traceback (most recent call last)",
      "File \u001b[0;32m/venv/kb_dev/lib/python3.10/site-packages/requests/adapters.py:667\u001b[0m, in \u001b[0;36mHTTPAdapter.send\u001b[0;34m(self, request, stream, timeout, verify, cert, proxies)\u001b[0m\n\u001b[1;32m    666\u001b[0m \u001b[38;5;28;01mtry\u001b[39;00m:\n\u001b[0;32m--> 667\u001b[0m     resp \u001b[38;5;241m=\u001b[39m \u001b[43mconn\u001b[49m\u001b[38;5;241;43m.\u001b[39;49m\u001b[43murlopen\u001b[49m\u001b[43m(\u001b[49m\n\u001b[1;32m    668\u001b[0m \u001b[43m        \u001b[49m\u001b[43mmethod\u001b[49m\u001b[38;5;241;43m=\u001b[39;49m\u001b[43mrequest\u001b[49m\u001b[38;5;241;43m.\u001b[39;49m\u001b[43mmethod\u001b[49m\u001b[43m,\u001b[49m\n\u001b[1;32m    669\u001b[0m \u001b[43m        \u001b[49m\u001b[43murl\u001b[49m\u001b[38;5;241;43m=\u001b[39;49m\u001b[43murl\u001b[49m\u001b[43m,\u001b[49m\n\u001b[1;32m    670\u001b[0m \u001b[43m        \u001b[49m\u001b[43mbody\u001b[49m\u001b[38;5;241;43m=\u001b[39;49m\u001b[43mrequest\u001b[49m\u001b[38;5;241;43m.\u001b[39;49m\u001b[43mbody\u001b[49m\u001b[43m,\u001b[49m\n\u001b[1;32m    671\u001b[0m \u001b[43m        \u001b[49m\u001b[43mheaders\u001b[49m\u001b[38;5;241;43m=\u001b[39;49m\u001b[43mrequest\u001b[49m\u001b[38;5;241;43m.\u001b[39;49m\u001b[43mheaders\u001b[49m\u001b[43m,\u001b[49m\n\u001b[1;32m    672\u001b[0m \u001b[43m        \u001b[49m\u001b[43mredirect\u001b[49m\u001b[38;5;241;43m=\u001b[39;49m\u001b[38;5;28;43;01mFalse\u001b[39;49;00m\u001b[43m,\u001b[49m\n\u001b[1;32m    673\u001b[0m \u001b[43m        \u001b[49m\u001b[43massert_same_host\u001b[49m\u001b[38;5;241;43m=\u001b[39;49m\u001b[38;5;28;43;01mFalse\u001b[39;49;00m\u001b[43m,\u001b[49m\n\u001b[1;32m    674\u001b[0m \u001b[43m        \u001b[49m\u001b[43mpreload_content\u001b[49m\u001b[38;5;241;43m=\u001b[39;49m\u001b[38;5;28;43;01mFalse\u001b[39;49;00m\u001b[43m,\u001b[49m\n\u001b[1;32m    675\u001b[0m \u001b[43m        \u001b[49m\u001b[43mdecode_content\u001b[49m\u001b[38;5;241;43m=\u001b[39;49m\u001b[38;5;28;43;01mFalse\u001b[39;49;00m\u001b[43m,\u001b[49m\n\u001b[1;32m    676\u001b[0m \u001b[43m        \u001b[49m\u001b[43mretries\u001b[49m\u001b[38;5;241;43m=\u001b[39;49m\u001b[38;5;28;43mself\u001b[39;49m\u001b[38;5;241;43m.\u001b[39;49m\u001b[43mmax_retries\u001b[49m\u001b[43m,\u001b[49m\n\u001b[1;32m    677\u001b[0m \u001b[43m        \u001b[49m\u001b[43mtimeout\u001b[49m\u001b[38;5;241;43m=\u001b[39;49m\u001b[43mtimeout\u001b[49m\u001b[43m,\u001b[49m\n\u001b[1;32m    678\u001b[0m \u001b[43m        \u001b[49m\u001b[43mchunked\u001b[49m\u001b[38;5;241;43m=\u001b[39;49m\u001b[43mchunked\u001b[49m\u001b[43m,\u001b[49m\n\u001b[1;32m    679\u001b[0m \u001b[43m    \u001b[49m\u001b[43m)\u001b[49m\n\u001b[1;32m    681\u001b[0m \u001b[38;5;28;01mexcept\u001b[39;00m (ProtocolError, \u001b[38;5;167;01mOSError\u001b[39;00m) \u001b[38;5;28;01mas\u001b[39;00m err:\n",
      "File \u001b[0;32m/venv/kb_dev/lib/python3.10/site-packages/urllib3/connectionpool.py:841\u001b[0m, in \u001b[0;36mHTTPConnectionPool.urlopen\u001b[0;34m(self, method, url, body, headers, retries, redirect, assert_same_host, timeout, pool_timeout, release_conn, chunked, body_pos, preload_content, decode_content, **response_kw)\u001b[0m\n\u001b[1;32m    839\u001b[0m     new_e \u001b[38;5;241m=\u001b[39m ProtocolError(\u001b[38;5;124m\"\u001b[39m\u001b[38;5;124mConnection aborted.\u001b[39m\u001b[38;5;124m\"\u001b[39m, new_e)\n\u001b[0;32m--> 841\u001b[0m retries \u001b[38;5;241m=\u001b[39m \u001b[43mretries\u001b[49m\u001b[38;5;241;43m.\u001b[39;49m\u001b[43mincrement\u001b[49m\u001b[43m(\u001b[49m\n\u001b[1;32m    842\u001b[0m \u001b[43m    \u001b[49m\u001b[43mmethod\u001b[49m\u001b[43m,\u001b[49m\u001b[43m \u001b[49m\u001b[43murl\u001b[49m\u001b[43m,\u001b[49m\u001b[43m \u001b[49m\u001b[43merror\u001b[49m\u001b[38;5;241;43m=\u001b[39;49m\u001b[43mnew_e\u001b[49m\u001b[43m,\u001b[49m\u001b[43m \u001b[49m\u001b[43m_pool\u001b[49m\u001b[38;5;241;43m=\u001b[39;49m\u001b[38;5;28;43mself\u001b[39;49m\u001b[43m,\u001b[49m\u001b[43m \u001b[49m\u001b[43m_stacktrace\u001b[49m\u001b[38;5;241;43m=\u001b[39;49m\u001b[43msys\u001b[49m\u001b[38;5;241;43m.\u001b[39;49m\u001b[43mexc_info\u001b[49m\u001b[43m(\u001b[49m\u001b[43m)\u001b[49m\u001b[43m[\u001b[49m\u001b[38;5;241;43m2\u001b[39;49m\u001b[43m]\u001b[49m\n\u001b[1;32m    843\u001b[0m \u001b[43m\u001b[49m\u001b[43m)\u001b[49m\n\u001b[1;32m    844\u001b[0m retries\u001b[38;5;241m.\u001b[39msleep()\n",
      "File \u001b[0;32m/venv/kb_dev/lib/python3.10/site-packages/urllib3/util/retry.py:519\u001b[0m, in \u001b[0;36mRetry.increment\u001b[0;34m(self, method, url, response, error, _pool, _stacktrace)\u001b[0m\n\u001b[1;32m    518\u001b[0m     reason \u001b[38;5;241m=\u001b[39m error \u001b[38;5;129;01mor\u001b[39;00m ResponseError(cause)\n\u001b[0;32m--> 519\u001b[0m     \u001b[38;5;28;01mraise\u001b[39;00m MaxRetryError(_pool, url, reason) \u001b[38;5;28;01mfrom\u001b[39;00m\u001b[38;5;250m \u001b[39m\u001b[38;5;21;01mreason\u001b[39;00m  \u001b[38;5;66;03m# type: ignore[arg-type]\u001b[39;00m\n\u001b[1;32m    521\u001b[0m log\u001b[38;5;241m.\u001b[39mdebug(\u001b[38;5;124m\"\u001b[39m\u001b[38;5;124mIncremented Retry for (url=\u001b[39m\u001b[38;5;124m'\u001b[39m\u001b[38;5;132;01m%s\u001b[39;00m\u001b[38;5;124m'\u001b[39m\u001b[38;5;124m): \u001b[39m\u001b[38;5;132;01m%r\u001b[39;00m\u001b[38;5;124m\"\u001b[39m, url, new_retry)\n",
      "\u001b[0;31mMaxRetryError\u001b[0m: HTTPConnectionPool(host='localhost', port=8000): Max retries exceeded with url: /v1/chat/completions (Caused by NewConnectionError('<urllib3.connection.HTTPConnection object at 0x7f5ac925e920>: Failed to establish a new connection: [Errno 111] Connection refused'))",
      "\nDuring handling of the above exception, another exception occurred:\n",
      "\u001b[0;31mConnectionError\u001b[0m                           Traceback (most recent call last)",
      "File \u001b[0;32m<timed exec>:16\u001b[0m\n",
      "Cell \u001b[0;32mIn[7], line 23\u001b[0m, in \u001b[0;36mget_response\u001b[0;34m(model, system_prompt, base64_image, query, url, min_pixels, max_pixels)\u001b[0m\n\u001b[1;32m     12\u001b[0m headers \u001b[38;5;241m=\u001b[39m {\n\u001b[1;32m     13\u001b[0m     \u001b[38;5;124m\"\u001b[39m\u001b[38;5;124mContent-Type\u001b[39m\u001b[38;5;124m\"\u001b[39m: \u001b[38;5;124m\"\u001b[39m\u001b[38;5;124mapplication/json\u001b[39m\u001b[38;5;124m\"\u001b[39m\n\u001b[1;32m     14\u001b[0m }\n\u001b[1;32m     15\u001b[0m data \u001b[38;5;241m=\u001b[39m {\n\u001b[1;32m     16\u001b[0m     \u001b[38;5;124m\"\u001b[39m\u001b[38;5;124mmodel\u001b[39m\u001b[38;5;124m\"\u001b[39m: model,\n\u001b[1;32m     17\u001b[0m     \u001b[38;5;124m\"\u001b[39m\u001b[38;5;124mmessages\u001b[39m\u001b[38;5;124m\"\u001b[39m: messages,\n\u001b[0;32m   (...)\u001b[0m\n\u001b[1;32m     20\u001b[0m     \u001b[38;5;124m\"\u001b[39m\u001b[38;5;124mtemperature\u001b[39m\u001b[38;5;124m\"\u001b[39m: \u001b[38;5;241m0.0\u001b[39m\n\u001b[1;32m     21\u001b[0m }\n\u001b[0;32m---> 23\u001b[0m response \u001b[38;5;241m=\u001b[39m \u001b[43mrequests\u001b[49m\u001b[38;5;241;43m.\u001b[39;49m\u001b[43mpost\u001b[49m\u001b[43m(\u001b[49m\u001b[43murl\u001b[49m\u001b[43m,\u001b[49m\u001b[43m \u001b[49m\u001b[43mheaders\u001b[49m\u001b[38;5;241;43m=\u001b[39;49m\u001b[43mheaders\u001b[49m\u001b[43m,\u001b[49m\u001b[43m \u001b[49m\u001b[43mjson\u001b[49m\u001b[38;5;241;43m=\u001b[39;49m\u001b[43mdata\u001b[49m\u001b[43m)\u001b[49m\n\u001b[1;32m     25\u001b[0m \u001b[38;5;28;01mreturn\u001b[39;00m response\u001b[38;5;241m.\u001b[39mjson()\n",
      "File \u001b[0;32m/venv/kb_dev/lib/python3.10/site-packages/requests/api.py:115\u001b[0m, in \u001b[0;36mpost\u001b[0;34m(url, data, json, **kwargs)\u001b[0m\n\u001b[1;32m    103\u001b[0m \u001b[38;5;28;01mdef\u001b[39;00m\u001b[38;5;250m \u001b[39m\u001b[38;5;21mpost\u001b[39m(url, data\u001b[38;5;241m=\u001b[39m\u001b[38;5;28;01mNone\u001b[39;00m, json\u001b[38;5;241m=\u001b[39m\u001b[38;5;28;01mNone\u001b[39;00m, \u001b[38;5;241m*\u001b[39m\u001b[38;5;241m*\u001b[39mkwargs):\n\u001b[1;32m    104\u001b[0m \u001b[38;5;250m    \u001b[39m\u001b[38;5;124mr\u001b[39m\u001b[38;5;124;03m\"\"\"Sends a POST request.\u001b[39;00m\n\u001b[1;32m    105\u001b[0m \n\u001b[1;32m    106\u001b[0m \u001b[38;5;124;03m    :param url: URL for the new :class:`Request` object.\u001b[39;00m\n\u001b[0;32m   (...)\u001b[0m\n\u001b[1;32m    112\u001b[0m \u001b[38;5;124;03m    :rtype: requests.Response\u001b[39;00m\n\u001b[1;32m    113\u001b[0m \u001b[38;5;124;03m    \"\"\"\u001b[39;00m\n\u001b[0;32m--> 115\u001b[0m     \u001b[38;5;28;01mreturn\u001b[39;00m \u001b[43mrequest\u001b[49m\u001b[43m(\u001b[49m\u001b[38;5;124;43m\"\u001b[39;49m\u001b[38;5;124;43mpost\u001b[39;49m\u001b[38;5;124;43m\"\u001b[39;49m\u001b[43m,\u001b[49m\u001b[43m \u001b[49m\u001b[43murl\u001b[49m\u001b[43m,\u001b[49m\u001b[43m \u001b[49m\u001b[43mdata\u001b[49m\u001b[38;5;241;43m=\u001b[39;49m\u001b[43mdata\u001b[49m\u001b[43m,\u001b[49m\u001b[43m \u001b[49m\u001b[43mjson\u001b[49m\u001b[38;5;241;43m=\u001b[39;49m\u001b[43mjson\u001b[49m\u001b[43m,\u001b[49m\u001b[43m \u001b[49m\u001b[38;5;241;43m*\u001b[39;49m\u001b[38;5;241;43m*\u001b[39;49m\u001b[43mkwargs\u001b[49m\u001b[43m)\u001b[49m\n",
      "File \u001b[0;32m/venv/kb_dev/lib/python3.10/site-packages/requests/api.py:59\u001b[0m, in \u001b[0;36mrequest\u001b[0;34m(method, url, **kwargs)\u001b[0m\n\u001b[1;32m     55\u001b[0m \u001b[38;5;66;03m# By using the 'with' statement we are sure the session is closed, thus we\u001b[39;00m\n\u001b[1;32m     56\u001b[0m \u001b[38;5;66;03m# avoid leaving sockets open which can trigger a ResourceWarning in some\u001b[39;00m\n\u001b[1;32m     57\u001b[0m \u001b[38;5;66;03m# cases, and look like a memory leak in others.\u001b[39;00m\n\u001b[1;32m     58\u001b[0m \u001b[38;5;28;01mwith\u001b[39;00m sessions\u001b[38;5;241m.\u001b[39mSession() \u001b[38;5;28;01mas\u001b[39;00m session:\n\u001b[0;32m---> 59\u001b[0m     \u001b[38;5;28;01mreturn\u001b[39;00m \u001b[43msession\u001b[49m\u001b[38;5;241;43m.\u001b[39;49m\u001b[43mrequest\u001b[49m\u001b[43m(\u001b[49m\u001b[43mmethod\u001b[49m\u001b[38;5;241;43m=\u001b[39;49m\u001b[43mmethod\u001b[49m\u001b[43m,\u001b[49m\u001b[43m \u001b[49m\u001b[43murl\u001b[49m\u001b[38;5;241;43m=\u001b[39;49m\u001b[43murl\u001b[49m\u001b[43m,\u001b[49m\u001b[43m \u001b[49m\u001b[38;5;241;43m*\u001b[39;49m\u001b[38;5;241;43m*\u001b[39;49m\u001b[43mkwargs\u001b[49m\u001b[43m)\u001b[49m\n",
      "File \u001b[0;32m/venv/kb_dev/lib/python3.10/site-packages/requests/sessions.py:589\u001b[0m, in \u001b[0;36mSession.request\u001b[0;34m(self, method, url, params, data, headers, cookies, files, auth, timeout, allow_redirects, proxies, hooks, stream, verify, cert, json)\u001b[0m\n\u001b[1;32m    584\u001b[0m send_kwargs \u001b[38;5;241m=\u001b[39m {\n\u001b[1;32m    585\u001b[0m     \u001b[38;5;124m\"\u001b[39m\u001b[38;5;124mtimeout\u001b[39m\u001b[38;5;124m\"\u001b[39m: timeout,\n\u001b[1;32m    586\u001b[0m     \u001b[38;5;124m\"\u001b[39m\u001b[38;5;124mallow_redirects\u001b[39m\u001b[38;5;124m\"\u001b[39m: allow_redirects,\n\u001b[1;32m    587\u001b[0m }\n\u001b[1;32m    588\u001b[0m send_kwargs\u001b[38;5;241m.\u001b[39mupdate(settings)\n\u001b[0;32m--> 589\u001b[0m resp \u001b[38;5;241m=\u001b[39m \u001b[38;5;28;43mself\u001b[39;49m\u001b[38;5;241;43m.\u001b[39;49m\u001b[43msend\u001b[49m\u001b[43m(\u001b[49m\u001b[43mprep\u001b[49m\u001b[43m,\u001b[49m\u001b[43m \u001b[49m\u001b[38;5;241;43m*\u001b[39;49m\u001b[38;5;241;43m*\u001b[39;49m\u001b[43msend_kwargs\u001b[49m\u001b[43m)\u001b[49m\n\u001b[1;32m    591\u001b[0m \u001b[38;5;28;01mreturn\u001b[39;00m resp\n",
      "File \u001b[0;32m/venv/kb_dev/lib/python3.10/site-packages/requests/sessions.py:703\u001b[0m, in \u001b[0;36mSession.send\u001b[0;34m(self, request, **kwargs)\u001b[0m\n\u001b[1;32m    700\u001b[0m start \u001b[38;5;241m=\u001b[39m preferred_clock()\n\u001b[1;32m    702\u001b[0m \u001b[38;5;66;03m# Send the request\u001b[39;00m\n\u001b[0;32m--> 703\u001b[0m r \u001b[38;5;241m=\u001b[39m \u001b[43madapter\u001b[49m\u001b[38;5;241;43m.\u001b[39;49m\u001b[43msend\u001b[49m\u001b[43m(\u001b[49m\u001b[43mrequest\u001b[49m\u001b[43m,\u001b[49m\u001b[43m \u001b[49m\u001b[38;5;241;43m*\u001b[39;49m\u001b[38;5;241;43m*\u001b[39;49m\u001b[43mkwargs\u001b[49m\u001b[43m)\u001b[49m\n\u001b[1;32m    705\u001b[0m \u001b[38;5;66;03m# Total elapsed time of the request (approximately)\u001b[39;00m\n\u001b[1;32m    706\u001b[0m elapsed \u001b[38;5;241m=\u001b[39m preferred_clock() \u001b[38;5;241m-\u001b[39m start\n",
      "File \u001b[0;32m/venv/kb_dev/lib/python3.10/site-packages/requests/adapters.py:700\u001b[0m, in \u001b[0;36mHTTPAdapter.send\u001b[0;34m(self, request, stream, timeout, verify, cert, proxies)\u001b[0m\n\u001b[1;32m    696\u001b[0m     \u001b[38;5;28;01mif\u001b[39;00m \u001b[38;5;28misinstance\u001b[39m(e\u001b[38;5;241m.\u001b[39mreason, _SSLError):\n\u001b[1;32m    697\u001b[0m         \u001b[38;5;66;03m# This branch is for urllib3 v1.22 and later.\u001b[39;00m\n\u001b[1;32m    698\u001b[0m         \u001b[38;5;28;01mraise\u001b[39;00m SSLError(e, request\u001b[38;5;241m=\u001b[39mrequest)\n\u001b[0;32m--> 700\u001b[0m     \u001b[38;5;28;01mraise\u001b[39;00m \u001b[38;5;167;01mConnectionError\u001b[39;00m(e, request\u001b[38;5;241m=\u001b[39mrequest)\n\u001b[1;32m    702\u001b[0m \u001b[38;5;28;01mexcept\u001b[39;00m ClosedPoolError \u001b[38;5;28;01mas\u001b[39;00m e:\n\u001b[1;32m    703\u001b[0m     \u001b[38;5;28;01mraise\u001b[39;00m \u001b[38;5;167;01mConnectionError\u001b[39;00m(e, request\u001b[38;5;241m=\u001b[39mrequest)\n",
      "\u001b[0;31mConnectionError\u001b[0m: HTTPConnectionPool(host='localhost', port=8000): Max retries exceeded with url: /v1/chat/completions (Caused by NewConnectionError('<urllib3.connection.HTTPConnection object at 0x7f5ac925e920>: Failed to establish a new connection: [Errno 111] Connection refused'))"
     ]
    }
   ],
   "source": [
    "%%time\n",
    "\n",
    "model = \"Qwen/Qwen2.5-VL-32B-Instruct-AWQ\"\n",
    "\n",
    "with open(\"/workspace/knowledge-base-chat-bot-develop/data/kzsk/images/pages/1.png\", \"rb\") as image_file:\n",
    "    buffer = image_file.read() \n",
    "    encoded_image = base64.b64encode(buffer).decode(\"utf-8\")\n",
    "\n",
    "system_prompt = \"\"\"Ты — помощник, отвечающий только на русском языке, специализирующийся на описании таблиц и составлении содержательных названий из научных статей. Создавай подробные подписи к таблицам(3 предложения), которые отражают результаты приведенных в таблицах сравнений. Подписи и названия таблиц должны быть максимально релевантными для поиска ответов. Используй текст статьи для уточнения деталей. Отдай результат в формате JSON-схемы {'annotations': ['table_name': содержательное название таблицы(оптимизированное для поиска ответов на русском языке), 'description': информативное описание таблицы(оптимизированное для поиска ответов на русском языке)]}\"\"\"\n",
    "\n",
    "query = \"\"\"\n",
    "Опиши все таблицы на этой странице сверху вниз. Дай им содержательные короткие названия, которые отвечают на вопрос \"Что это за таблица?\", и информативные описания, которые отвечают на вопрос \"О чем эта таблица?\". Текст страницы: 'Table  1 THE CHARACTERISTICS OF H L PDMS COPOLYMERS\\n\\n<!-- image -->\\n\\n| Sample   | DH /D   | H\"     | 25    | Mv   | GPC   | GPC   | GPC   |\\n|----------|---------|--------|-------|------|-------|-------|-------|\\n|          |         | [%]    | [cSt] |      | Mn    | Mw    | Mw/Mn |\\n| HPDMS-1  | 1:8.4   | 0.1393 | 78    | 7000 | 6250  | 11187 | 1.79  |\\n| HPDMS-2  | 1:10    | 0.1312 | 63    | 4000 | 3583  | 5750  | 1.6   |\\n\\nAs determined by modified Zerewitinonoff metode [16];\\n\\nblgn25\\n\\nIn  table  1  the  specific  characteristics of  H l PDMS copolymers are presented. The ratio between CH 3 (H) SiO/ (CH 3 ) 2 SiO (D H /D) was determined from the integrals of the corresponding protons signals for the above mentioned groups in the 1 H-NMR spectrum.\\n\\n## Characteristics for V PDMS and VcPDMS copolymers\\n\\nl The  characteristics  of  the  V l PDMS and VcPDMS copolymers are presented in table 2. The ratios CH 2 =CHSi/(CH 3 ) 2 SiO- (V/D), calculated according to the quantities of  the  two  components  introduced  in  reaction  are presented.\\n\\nThe structure of the V l PDMS and VcPDMS copolymers was initially determined by FT-IR spectroscopy.\\n\\nIn the 1 H-NMR spectrum (fig.4) of VcPDMS copolymer the characteristic peaks of -CH 3 methyl protons linked to Si atom (at 0.1-0.2 ppm) and the peaks characteristic of protons  from the double bond -Si-CH=CH (at 5.7-6.2 ppm) can be observed.\\n\\nThe presence of vinyl groups from V l PDMS copolymers could not be the evidence of 1 H-NMR technique due to the small number of vinyl groups in the structure of copolymers.\\n\\nThermo-mechanical characterisation for polysiloxane networks\\n\\nThe physico-mechanical properties (table 3) of the crosslinked polymers related to the molar ratio of the -SiCH=CH 2 /-Si-H reactive groups were studied.\\n\\nFigure  1,  that  presents  the  FT-IR  spectrum  of  the polysiloxanes with vinyl functional groups (V l PDMS and VcPDMS), indicates the presence of the characteristic absorption bands: one at 3052 cm -1 attributed to -Si-CHCH 2 group, the second one at 1597 cm -1 characteristic to the C=C bond and another one at1408 cm -1 determined by =CH 2 grouping.\\n\\nAs  depicted  in  table  3  the  values  of  the  physicomechanical parameters are quite low, but typical for silicon elastomers [18].\\n\\nThe dependence of the physical properties of the corresponding siloxanes on temperature was studied by differential scanning calorimetry (DSC) (fig. 4).\\n\\nThe  glass  temperature Tg (around -118°C) and ÄCp obtained were characteristic for an amorphous phase. Around -48°C an endothermic peak associated with the\\n\\n| Sample   |         | Conversie   | Mv     | GPC    | GPC     | GPC    |\\n|----------|---------|-------------|--------|--------|---------|--------|\\n|          | initial | [%]         |        | Mn     | Mw      | Mw/ Mn |\\n| VPDMS    | 1:70    | 78          | 95.500 | 50.677 | 104.753 | 2.067  |\\n| VcPDMS   | 1:8     | 85          | 594    | 1366   | 1853    | 1.357  |\\n\\nVID CHz =CHSi-/(CHs)SiO- b1gn25 =1+ 0.0123M\"5 [17]\\n\\nTable  2\\n\\nTHE CHARACTERISTICS OF V l PDMS AND VcPDMS COPOLYMERS'. Не забудь вернуть ответ в виде JSON.\"\"\"\n",
    "\n",
    "query = \"\"\"\n",
    "Опиши все таблицы на этой странице сверху вниз. Дай им содержательные короткие названия, которые отвечают на вопрос \"Что это за таблица?\", и подробные описания, которые отвечают на вопрос \"О чем эта таблица?\". Текст страницы: ' \"Таблица 1 ХАРАКТЕРИСТИКИ H L PDMS СОПОЛИМЕРОВ\\n\\n<!-- изображение -->\\n\\n| Образец   | DH /D   | H\\\"     | 25    | Mv   | GPC   | GPC   | GPC   |\\n|-----------|---------|--------|-------|------|-------|-------|-------|\\n|           |         | [%]    | [cSt] |      | Mn    | Mw    | Mw/Mn |\\n| HPDMS-1   | 1:8.4   | 0.1393 | 78    | 7000 | 6250  | 11187 | 1.79  |\\n| HPDMS-2   | 1:10    | 0.1312 | 63    | 4000 | 3583  | 5750  | 1.6   |\\n\\nКак определено модифицированным методом Зеревитинова [16];\\n\\nblgn25\\n\\nВ таблице 1 представлены специфические характеристики сополимеров H L PDMS. Соотношение между CH₃(H)SiO и (CH₃)₂SiO (D H /D) было определено на основе интегралов соответствующих сигналов протонов для вышеуказанных групп в спектре ¹H-NMR.\\n\\n## Характеристики сополимеров V PDMS и VcPDMS\\n\\nХарактеристики сополимеров V L PDMS и VcPDMS представлены в таблице 2. Соотношения CH₂=CHSi/(CH₃)₂SiO (V/D) рассчитаны на основе количеств двух компонентов, введённых в реакцию.\\n\\nСтруктура сополимеров V L PDMS и VcPDMS была первоначально определена с помощью FT-IR спектроскопии.\\n\\nВ спектре ¹H-NMR (рис. 4) сополимера VcPDMS наблюдаются характерные пики метильных протонов -CH₃, связанных с атомом кремния (в области 0.1–0.2 ppm), и пики, характерные для протонов двойной связи -Si-CH=CH (в области 5.7–6.2 ppm).\\n\\nНаличие винильных групп в сополимерах V L PDMS не может быть подтверждено методом ¹H-NMR из-за малого количества винильных групп в структуре сополимеров.\\n\\nТермо-механическая характеристика полисилоксановых сетей\\n\\nФизико-механические свойства (таблица 3) отверждённых полимеров, связанные с мольным соотношением реакционноспособных групп -SiCH=CH₂/-Si-H, были исследованы.\\n\\nРисунок 1, представляющий FT-IR спектр полисилоксанов с винильными функциональными группами (V L PDMS и VcPDMS), показывает наличие характерных полос поглощения: одна на 3052 см⁻¹, относящаяся к группе -Si-CHCH₂, вторая на 1597 см⁻¹ — к двойной связи C=C, и ещё одна на 1408 см⁻¹ — к группе =CH₂.\\n\\nКак показано в таблице 3, значения физико-механических параметров довольно низкие, но типичны для кремнийорганических эластомеров [18].\\n\\nЗависимость физических свойств соответствующих силоксанов от температуры изучалась методом дифференциальной сканирующей калориметрии (DSC) (рис. 4).\\n\\nТемпература стеклования Tg (около -118°C) и изменение теплоёмкости ΔCp были характерны для аморфной фазы. В районе -48°C наблюдался эндотермический пик, связанный с\\n\\n| Образец   |         | Конверсия | Mv     | GPC    | GPC     | GPC    |\\n|-----------|---------|-----------|--------|--------|---------|--------|\\n|           | нач.    | [%]       |        | Mn     | Mw      | Mw/Mn  |\\n| VPDMS     | 1:70    | 78        | 95.500 | 50.677 | 104.753 | 2.067  |\\n| VcPDMS    | 1:8     | 85        | 594    | 1366   | 1853    | 1.357  |\\n\\nVID CH₂=CHSi/(CH₃)SiO- blgn25 = 1 + 0.0123M⁵ [17]\\n\\nТаблица 2\\n\\nХАРАКТЕРИСТИКИ СОПОЛИМЕРОВ V L PDMS И VcPDMS. Не забудь вернуть ответ в виде JSON.\"\"\"\n",
    "\n",
    "\n",
    "response = get_response(model, system_prompt, encoded_image, query, url=\"http://localhost:8000/v1/chat/completions\")\n",
    "print(response['choices'][0]['message']['content'])\n",
    "\n",
    "import json\n",
    "\n",
    "data = json.loads(response['choices'][0]['message']['content'])\n",
    "print(data)"
   ]
  },
  {
   "cell_type": "code",
   "execution_count": 125,
   "id": "ea8b4e1b-d945-4fe4-843b-da5d4550ddc6",
   "metadata": {},
   "outputs": [
    {
     "name": "stdout",
     "output_type": "stream",
     "text": [
      "{'id': 'chatcmpl-83dfadac3cdc4f0d9d2d278aff87c89a', 'object': 'chat.completion', 'created': 1751168836, 'model': 'Qwen/Qwen2.5-VL-7B-Instruct-AWQ', 'choices': [{'index': 0, 'message': {'role': 'assistant', 'reasoning_content': None, 'content': '{\\n  \"annotations\": [\\n    {\\n      \"table_name\": \"ХАРАКТЕРИСТИКИ H L PDMS СОПОЛИМЕРОВ\",\\n      \"table_description\": \"Таблица содержит данные о специфических характеристиках сополимеров H L PDMS, включая соотношение между CH₃(H)SiO и (CH₃)₂SiO (DH/D), интегралы соответствующих сигналов протонов и другие физические параметры.\"\\n    },\\n    {\\n      \"table_name\": \"ХАРАКТЕРИСТИКИ V PDMS И VcPDMS\",\\n      \"table_description\": \"Таблица 2 предоставляет характеристики сополимеров V PDMS и VcPDMS, включая соотношение CH₂=CHSi/(CH₃)₂SiO (V/D), конверсию и физические параметры.\"\\n    }\\n  ]\\n}', 'tool_calls': []}, 'logprobs': None, 'finish_reason': 'stop', 'stop_reason': None}], 'usage': {'prompt_tokens': 2174, 'total_tokens': 2390, 'completion_tokens': 216, 'prompt_tokens_details': None}, 'prompt_logprobs': None, 'kv_transfer_params': None}\n",
      "CPU times: user 5.87 ms, sys: 0 ns, total: 5.87 ms\n",
      "Wall time: 2.31 s\n"
     ]
    }
   ],
   "source": [
    "%%time\n",
    "\n",
    "model = \"Qwen/Qwen2.5-VL-7B-Instruct-AWQ\"\n",
    "\n",
    "with open(\"/workspace/knowledge-base-chat-bot-develop/data/kzsk/images/pages/1.png\", \"rb\") as image_file:\n",
    "    buffer = image_file.read() \n",
    "    encoded_image = base64.b64encode(buffer).decode(\"utf-8\")\n",
    "\n",
    "system_prompt = \"\"\"Ты — помощник, отвечающий только на русском языке, специализирующийся на описании таблиц и составлении содержательных названий из научных статей. Создавай подробные подписи к таблицам(3 предложения), которые отражают результаты приведенных в таблицах сравнений. Подписи и названия таблиц должны быть максимально релевантными для поиска ответов. Используй текст статьи для уточнения деталей. Отдай результат в формате JSON-схемы {'annotations': ['table_name': содержательное название таблицы(оптимизированное для поиска ответов на русском языке), 'description': информативное описание таблицы(оптимизированное для поиска ответов на русском языке)]}\"\"\"\n",
    "\n",
    "query = \"\"\"\n",
    "Опиши все таблицы на этой странице сверху вниз. Дай им содержательные короткие названия, которые отвечают на вопрос \"Что это за таблица?\", и информативные описания, которые отвечают на вопрос \"О чем эта таблица?\". Текст страницы: 'Table  1 THE CHARACTERISTICS OF H L PDMS COPOLYMERS\\n\\n<!-- image -->\\n\\n| Sample   | DH /D   | H\"     | 25    | Mv   | GPC   | GPC   | GPC   |\\n|----------|---------|--------|-------|------|-------|-------|-------|\\n|          |         | [%]    | [cSt] |      | Mn    | Mw    | Mw/Mn |\\n| HPDMS-1  | 1:8.4   | 0.1393 | 78    | 7000 | 6250  | 11187 | 1.79  |\\n| HPDMS-2  | 1:10    | 0.1312 | 63    | 4000 | 3583  | 5750  | 1.6   |\\n\\nAs determined by modified Zerewitinonoff metode [16];\\n\\nblgn25\\n\\nIn  table  1  the  specific  characteristics of  H l PDMS copolymers are presented. The ratio between CH 3 (H) SiO/ (CH 3 ) 2 SiO (D H /D) was determined from the integrals of the corresponding protons signals for the above mentioned groups in the 1 H-NMR spectrum.\\n\\n## Characteristics for V PDMS and VcPDMS copolymers\\n\\nl The  characteristics  of  the  V l PDMS and VcPDMS copolymers are presented in table 2. The ratios CH 2 =CHSi/(CH 3 ) 2 SiO- (V/D), calculated according to the quantities of  the  two  components  introduced  in  reaction  are presented.\\n\\nThe structure of the V l PDMS and VcPDMS copolymers was initially determined by FT-IR spectroscopy.\\n\\nIn the 1 H-NMR spectrum (fig.4) of VcPDMS copolymer the characteristic peaks of -CH 3 methyl protons linked to Si atom (at 0.1-0.2 ppm) and the peaks characteristic of protons  from the double bond -Si-CH=CH (at 5.7-6.2 ppm) can be observed.\\n\\nThe presence of vinyl groups from V l PDMS copolymers could not be the evidence of 1 H-NMR technique due to the small number of vinyl groups in the structure of copolymers.\\n\\nThermo-mechanical characterisation for polysiloxane networks\\n\\nThe physico-mechanical properties (table 3) of the crosslinked polymers related to the molar ratio of the -SiCH=CH 2 /-Si-H reactive groups were studied.\\n\\nFigure  1,  that  presents  the  FT-IR  spectrum  of  the polysiloxanes with vinyl functional groups (V l PDMS and VcPDMS), indicates the presence of the characteristic absorption bands: one at 3052 cm -1 attributed to -Si-CHCH 2 group, the second one at 1597 cm -1 characteristic to the C=C bond and another one at1408 cm -1 determined by =CH 2 grouping.\\n\\nAs  depicted  in  table  3  the  values  of  the  physicomechanical parameters are quite low, but typical for silicon elastomers [18].\\n\\nThe dependence of the physical properties of the corresponding siloxanes on temperature was studied by differential scanning calorimetry (DSC) (fig. 4).\\n\\nThe  glass  temperature Tg (around -118°C) and ÄCp obtained were characteristic for an amorphous phase. Around -48°C an endothermic peak associated with the\\n\\n| Sample   |         | Conversie   | Mv     | GPC    | GPC     | GPC    |\\n|----------|---------|-------------|--------|--------|---------|--------|\\n|          | initial | [%]         |        | Mn     | Mw      | Mw/ Mn |\\n| VPDMS    | 1:70    | 78          | 95.500 | 50.677 | 104.753 | 2.067  |\\n| VcPDMS   | 1:8     | 85          | 594    | 1366   | 1853    | 1.357  |\\n\\nVID CHz =CHSi-/(CHs)SiO- b1gn25 =1+ 0.0123M\"5 [17]\\n\\nTable  2\\n\\nTHE CHARACTERISTICS OF V l PDMS AND VcPDMS COPOLYMERS'. Не забудь вернуть ответ в виде JSON.\"\"\"\n",
    "\n",
    "query = \"\"\"\n",
    "Опиши все таблицы на этой странице сверху вниз. Дай им содержательные короткие названия, которые отвечают на вопрос \"Что это за таблица?\", и подробные описания, которые отвечают на вопрос \"О чем эта таблица?\". Текст страницы: ' \"Таблица 1 ХАРАКТЕРИСТИКИ H L PDMS СОПОЛИМЕРОВ\\n\\n<!-- изображение -->\\n\\n| Образец   | DH /D   | H\\\"     | 25    | Mv   | GPC   | GPC   | GPC   |\\n|-----------|---------|--------|-------|------|-------|-------|-------|\\n|           |         | [%]    | [cSt] |      | Mn    | Mw    | Mw/Mn |\\n| HPDMS-1   | 1:8.4   | 0.1393 | 78    | 7000 | 6250  | 11187 | 1.79  |\\n| HPDMS-2   | 1:10    | 0.1312 | 63    | 4000 | 3583  | 5750  | 1.6   |\\n\\nКак определено модифицированным методом Зеревитинова [16];\\n\\nblgn25\\n\\nВ таблице 1 представлены специфические характеристики сополимеров H L PDMS. Соотношение между CH₃(H)SiO и (CH₃)₂SiO (D H /D) было определено на основе интегралов соответствующих сигналов протонов для вышеуказанных групп в спектре ¹H-NMR.\\n\\n## Характеристики сополимеров V PDMS и VcPDMS\\n\\nХарактеристики сополимеров V L PDMS и VcPDMS представлены в таблице 2. Соотношения CH₂=CHSi/(CH₃)₂SiO (V/D) рассчитаны на основе количеств двух компонентов, введённых в реакцию.\\n\\nСтруктура сополимеров V L PDMS и VcPDMS была первоначально определена с помощью FT-IR спектроскопии.\\n\\nВ спектре ¹H-NMR (рис. 4) сополимера VcPDMS наблюдаются характерные пики метильных протонов -CH₃, связанных с атомом кремния (в области 0.1–0.2 ppm), и пики, характерные для протонов двойной связи -Si-CH=CH (в области 5.7–6.2 ppm).\\n\\nНаличие винильных групп в сополимерах V L PDMS не может быть подтверждено методом ¹H-NMR из-за малого количества винильных групп в структуре сополимеров.\\n\\nТермо-механическая характеристика полисилоксановых сетей\\n\\nФизико-механические свойства (таблица 3) отверждённых полимеров, связанные с мольным соотношением реакционноспособных групп -SiCH=CH₂/-Si-H, были исследованы.\\n\\nРисунок 1, представляющий FT-IR спектр полисилоксанов с винильными функциональными группами (V L PDMS и VcPDMS), показывает наличие характерных полос поглощения: одна на 3052 см⁻¹, относящаяся к группе -Si-CHCH₂, вторая на 1597 см⁻¹ — к двойной связи C=C, и ещё одна на 1408 см⁻¹ — к группе =CH₂.\\n\\nКак показано в таблице 3, значения физико-механических параметров довольно низкие, но типичны для кремнийорганических эластомеров [18].\\n\\nЗависимость физических свойств соответствующих силоксанов от температуры изучалась методом дифференциальной сканирующей калориметрии (DSC) (рис. 4).\\n\\nТемпература стеклования Tg (около -118°C) и изменение теплоёмкости ΔCp были характерны для аморфной фазы. В районе -48°C наблюдался эндотермический пик, связанный с\\n\\n| Образец   |         | Конверсия | Mv     | GPC    | GPC     | GPC    |\\n|-----------|---------|-----------|--------|--------|---------|--------|\\n|           | нач.    | [%]       |        | Mn     | Mw      | Mw/Mn  |\\n| VPDMS     | 1:70    | 78        | 95.500 | 50.677 | 104.753 | 2.067  |\\n| VcPDMS    | 1:8     | 85        | 594    | 1366   | 1853    | 1.357  |\\n\\nVID CH₂=CHSi/(CH₃)SiO- blgn25 = 1 + 0.0123M⁵ [17]\\n\\nТаблица 2\\n\\nХАРАКТЕРИСТИКИ СОПОЛИМЕРОВ V L PDMS И VcPDMS. Не забудь вернуть ответ в виде JSON.\"\"\"\n",
    "\n",
    "\n",
    "response = get_response(model, system_prompt, encoded_image, query, url=\"http://localhost:8000/v1/chat/completions\")\n",
    "print(response)"
   ]
  },
  {
   "cell_type": "code",
   "execution_count": 124,
   "id": "2d0ef634-a833-42cd-8eeb-ae3ec7799f7c",
   "metadata": {},
   "outputs": [
    {
     "name": "stdout",
     "output_type": "stream",
     "text": [
      "{\n",
      "  \"annotations\": [\n",
      "    {\n",
      "      \"table_name\": \"Характеристики сополимеров H L PDMS\",\n",
      "      \"table_description\": \"Таблица содержит данные о соотношениях между CH₃(H)SiO и (CH₃)₂SiO (DH/D) для сополимеров H L PDMS, определенные на основе интегралов соответствующих сигналов протонов в спектре ¹H-NMR.\"\n",
      "    },\n",
      "    {\n",
      "      \"table_name\": \"Характеристики сополимеров V PDMS и VcPDMS\",\n",
      "      \"table_description\": \"Таблица 2 представляет соотношения CH₂=CHSi/(CH₃)₂SiO (V/D) для сополимеров V PDMS и VcPDMS, рассчитанные на основе количеств двух компонентов, введенных в реакцию.\"\n",
      "    }\n",
      "  ]\n",
      "}\n",
      "{'annotations': [{'table_name': 'Характеристики сополимеров H L PDMS', 'table_description': 'Таблица содержит данные о соотношениях между CH₃(H)SiO и (CH₃)₂SiO (DH/D) для сополимеров H L PDMS, определенные на основе интегралов соответствующих сигналов протонов в спектре ¹H-NMR.'}, {'table_name': 'Характеристики сополимеров V PDMS и VcPDMS', 'table_description': 'Таблица 2 представляет соотношения CH₂=CHSi/(CH₃)₂SiO (V/D) для сополимеров V PDMS и VcPDMS, рассчитанные на основе количеств двух компонентов, введенных в реакцию.'}]}\n"
     ]
    }
   ],
   "source": [
    "print(response['choices'][0]['message']['content'])\n",
    "\n",
    "import json\n",
    "\n",
    "data = json.loads(response['choices'][0]['message']['content'])\n",
    "print(data)"
   ]
  },
  {
   "cell_type": "markdown",
   "id": "a9b38e50-6eab-451b-a7eb-4502732069ec",
   "metadata": {},
   "source": [
    "### ВОпросы:\n",
    "- «Какие образцы H L PDMS представлены в таблице и каковы их характеристики по GPC?»\n",
    "\n",
    "«Каким методом были определены соотношения мономеров в H PDMS?»\n",
    "\n",
    "«Что такое V/D и какие значения указаны для сополимеров V PDMS и VcPDMS?»"
   ]
  },
  {
   "cell_type": "code",
   "execution_count": 111,
   "id": "f5dd1d75-a041-4ce6-9352-fab9100d0cdd",
   "metadata": {},
   "outputs": [
    {
     "name": "stdout",
     "output_type": "stream",
     "text": [
      "{'id': 'chatcmpl-2883141cbd8546ababac5aa191bdea94', 'object': 'chat.completion', 'created': 1751165225, 'model': 'Qwen/Qwen2.5-VL-7B-Instruct-AWQ', 'choices': [{'index': 0, 'message': {'role': 'assistant', 'reasoning_content': None, 'content': '{\\n  \"annotations\": [\\n    {\\n      \"table_name\": \"Table 1\",\\n      \"table_description\": \"Таблица 1 представляет специфические характеристики полимеров H l PDMS, включая соотношение сигналов протонов CH3 (H) SiO/(CH3)2 SiO (DH/D) в спектре 1Н-NMR.\"\\n    },\\n    {\\n      \"table_name\": \"Table 2\",\\n      \"table_description\": \"Таблица 2 показывает характеристики copolимеров V l PDMS и VcPDMS, включая соотношение сигналов протонов CH2=CHSi/(CH3)2 SiO (V/D).\"\\n    }\\n  ]\\n}', 'tool_calls': []}, 'logprobs': None, 'finish_reason': 'stop', 'stop_reason': None}], 'usage': {'prompt_tokens': 1931, 'total_tokens': 2093, 'completion_tokens': 162, 'prompt_tokens_details': None}, 'prompt_logprobs': None, 'kv_transfer_params': None}\n",
      "CPU times: user 5.84 ms, sys: 638 μs, total: 6.48 ms\n",
      "Wall time: 1.6 s\n"
     ]
    }
   ],
   "source": [
    "%%time\n",
    "\n",
    "model = \"Qwen/Qwen2.5-VL-7B-Instruct-AWQ\"\n",
    "\n",
    "with open(\"/workspace/knowledge-base-chat-bot-develop/data/kzsk/images/pages/1.png\", \"rb\") as image_file:\n",
    "    buffer = image_file.read() \n",
    "    encoded_image = base64.b64encode(buffer).decode(\"utf-8\")\n",
    "\n",
    "system_prompt = \"Ты — помощник, отвечающий только на русском языке, специализирующийся на описании таблиц и составлении содержательных названий из научных статей. Давай подробные подписи к таблицам, отражающие ключевую информацию, опираясь на предоставленный текст и картинку. Чётко опиши их содержание по 3-4 предложения и названия отражающее назначения таблиц. Твоя подпись должна быть оптимизирована для последующего поиска, чтобы люди могли легко находить ответы на вопросы по этому содержимому. Опирайся на предоставленный текст, помимо картинки - на нем текст со страницы. Отдай ответ в виде JSON-схемы формата - {'annotations': ['table_name': название_таблицы, 'description': описание_таблицы_из_2-3_предложений]}\"\n",
    "\n",
    "query = \"\"\"\n",
    "Опиши все таблицы на этой странице сверху вниз. Дай им содержательные короткие названия и информативное описание состоящее из 3 предложений. Опирайся на текст страницы - 'Table  1 THE CHARACTERISTICS OF H L PDMS COPOLYMERS\\n\\n<!-- image -->\\n\\n| Sample   | DH /D   | H\"     | 25    | Mv   | GPC   | GPC   | GPC   |\\n|----------|---------|--------|-------|------|-------|-------|-------|\\n|          |         | [%]    | [cSt] |      | Mn    | Mw    | Mw/Mn |\\n| HPDMS-1  | 1:8.4   | 0.1393 | 78    | 7000 | 6250  | 11187 | 1.79  |\\n| HPDMS-2  | 1:10    | 0.1312 | 63    | 4000 | 3583  | 5750  | 1.6   |\\n\\nAs determined by modified Zerewitinonoff metode [16];\\n\\nblgn25\\n\\nIn  table  1  the  specific  characteristics of  H l PDMS copolymers are presented. The ratio between CH 3 (H) SiO/ (CH 3 ) 2 SiO (D H /D) was determined from the integrals of the corresponding protons signals for the above mentioned groups in the 1 H-NMR spectrum.\\n\\n## Characteristics for V PDMS and VcPDMS copolymers\\n\\nl The  characteristics  of  the  V l PDMS and VcPDMS copolymers are presented in table 2. The ratios CH 2 =CHSi/(CH 3 ) 2 SiO- (V/D), calculated according to the quantities of  the  two  components  introduced  in  reaction  are presented.\\n\\nThe structure of the V l PDMS and VcPDMS copolymers was initially determined by FT-IR spectroscopy.\\n\\nIn the 1 H-NMR spectrum (fig.4) of VcPDMS copolymer the characteristic peaks of -CH 3 methyl protons linked to Si atom (at 0.1-0.2 ppm) and the peaks characteristic of protons  from the double bond -Si-CH=CH (at 5.7-6.2 ppm) can be observed.\\n\\nThe presence of vinyl groups from V l PDMS copolymers could not be the evidence of 1 H-NMR technique due to the small number of vinyl groups in the structure of copolymers.\\n\\nThermo-mechanical characterisation for polysiloxane networks\\n\\nThe physico-mechanical properties (table 3) of the crosslinked polymers related to the molar ratio of the -SiCH=CH 2 /-Si-H reactive groups were studied.\\n\\nFigure  1,  that  presents  the  FT-IR  spectrum  of  the polysiloxanes with vinyl functional groups (V l PDMS and VcPDMS), indicates the presence of the characteristic absorption bands: one at 3052 cm -1 attributed to -Si-CHCH 2 group, the second one at 1597 cm -1 characteristic to the C=C bond and another one at1408 cm -1 determined by =CH 2 grouping.\\n\\nAs  depicted  in  table  3  the  values  of  the  physicomechanical parameters are quite low, but typical for silicon elastomers [18].\\n\\nThe dependence of the physical properties of the corresponding siloxanes on temperature was studied by differential scanning calorimetry (DSC) (fig. 4).\\n\\nThe  glass  temperature Tg (around -118°C) and ÄCp obtained were characteristic for an amorphous phase. Around -48°C an endothermic peak associated with the\\n\\n| Sample   |         | Conversie   | Mv     | GPC    | GPC     | GPC    |\\n|----------|---------|-------------|--------|--------|---------|--------|\\n|          | initial | [%]         |        | Mn     | Mw      | Mw/ Mn |\\n| VPDMS    | 1:70    | 78          | 95.500 | 50.677 | 104.753 | 2.067  |\\n| VcPDMS   | 1:8     | 85          | 594    | 1366   | 1853    | 1.357  |\\n\\nVID CHz =CHSi-/(CHs)SiO- b1gn25 =1+ 0.0123M\"5 [17]\\n\\nTable  2\\n\\nTHE CHARACTERISTICS OF V l PDMS AND VcPDMS COPOLYMERS'\n",
    "Не забудь вернуть ответ в виде JSON.\"\"\"\n",
    "\n",
    "response = get_response(model, system_prompt, encoded_image, query, url=\"http://localhost:8000/v1/chat/completions\")\n",
    "print(response)"
   ]
  },
  {
   "cell_type": "code",
   "execution_count": 112,
   "id": "bb7df3d1-c349-4ea7-8ce3-2962c78992a1",
   "metadata": {},
   "outputs": [
    {
     "name": "stdout",
     "output_type": "stream",
     "text": [
      "{\n",
      "  \"annotations\": [\n",
      "    {\n",
      "      \"table_name\": \"Table 1\",\n",
      "      \"table_description\": \"Таблица 1 представляет специфические характеристики полимеров H l PDMS, включая соотношение сигналов протонов CH3 (H) SiO/(CH3)2 SiO (DH/D) в спектре 1Н-NMR.\"\n",
      "    },\n",
      "    {\n",
      "      \"table_name\": \"Table 2\",\n",
      "      \"table_description\": \"Таблица 2 показывает характеристики copolимеров V l PDMS и VcPDMS, включая соотношение сигналов протонов CH2=CHSi/(CH3)2 SiO (V/D).\"\n",
      "    }\n",
      "  ]\n",
      "}\n",
      "{'annotations': [{'table_name': 'Table 1', 'table_description': 'Таблица 1 представляет специфические характеристики полимеров H l PDMS, включая соотношение сигналов протонов CH3 (H) SiO/(CH3)2 SiO (DH/D) в спектре 1Н-NMR.'}, {'table_name': 'Table 2', 'table_description': 'Таблица 2 показывает характеристики copolимеров V l PDMS и VcPDMS, включая соотношение сигналов протонов CH2=CHSi/(CH3)2 SiO (V/D).'}]}\n"
     ]
    }
   ],
   "source": [
    "print(response['choices'][0]['message']['content'])\n",
    "\n",
    "import json\n",
    "\n",
    "data = json.loads(response['choices'][0]['message']['content'])\n",
    "print(data)"
   ]
  },
  {
   "cell_type": "code",
   "execution_count": 109,
   "id": "72405491-2823-4a8b-b293-d6e895f49069",
   "metadata": {},
   "outputs": [
    {
     "name": "stdout",
     "output_type": "stream",
     "text": [
      "{\n",
      "  \"annotations\": [\n",
      "    {\n",
      "      \"table_name\": \"Table 1\",\n",
      "      \"table_description\": \"Таблица 1 содержит характеристики сополимеров H PDMS, включая соотношение молярных масс и интегральные сигналы протонов в 1Н-NMR спектре.\"\n",
      "    },\n",
      "    {\n",
      "      \"table_name\": \"Table 2\",\n",
      "      \"table_description\": \"Таблица 2 показывает характеристики сополимеров V PDMS и VcPDMS, включая соотношение молярных масс и интегральные сигналы протонов в 1Н-NMR спектре.\"\n",
      "    }\n",
      "  ]\n",
      "}\n",
      "{'annotations': [{'table_name': 'Table 1', 'table_description': 'Таблица 1 содержит характеристики сополимеров H PDMS, включая соотношение молярных масс и интегральные сигналы протонов в 1Н-NMR спектре.'}, {'table_name': 'Table 2', 'table_description': 'Таблица 2 показывает характеристики сополимеров V PDMS и VcPDMS, включая соотношение молярных масс и интегральные сигналы протонов в 1Н-NMR спектре.'}]}\n"
     ]
    }
   ],
   "source": [
    "print(response['choices'][0]['message']['content'])\n",
    "\n",
    "import json\n",
    "\n",
    "data = json.loads(response['choices'][0]['message']['content'])\n",
    "print(data)"
   ]
  },
  {
   "cell_type": "code",
   "execution_count": 98,
   "id": "5b8f497e-ce3a-4552-a60d-709e711213a4",
   "metadata": {},
   "outputs": [
    {
     "name": "stdout",
     "output_type": "stream",
     "text": [
      "{'id': 'chatcmpl-83e16d0c795d470d93254982b452598b', 'object': 'chat.completion', 'created': 1751163321, 'model': 'Qwen/Qwen2.5-VL-3B-Instruct', 'choices': [{'index': 0, 'message': {'role': 'assistant', 'reasoning_content': None, 'content': '{\\n  \"annotations\": [\\n    {\\n      \"table_name\": \"Table 1\",\\n      \"table_description\": \"Таблица 1 содержит характеристики полимеров H-PDMS. В ней представлены параметры молекулярной массы и ГПК для двух образцов H-PDMS: HPDMS-1 и HPDMS-2.\"\\n    },\\n    {\\n      \"table_name\": \"Table 2\",\\n      \"table_description\": \"Таблица 2 показывает характеристики полимеров VPDMS и VcPDMS. Она включает данные о конверсии, молекулярной массе и ГПК для этих полимеров.\"\\n    }\\n  ]\\n}', 'tool_calls': []}, 'logprobs': None, 'finish_reason': 'stop', 'stop_reason': None}], 'usage': {'prompt_tokens': 1902, 'total_tokens': 2058, 'completion_tokens': 156, 'prompt_tokens_details': None}, 'prompt_logprobs': None, 'kv_transfer_params': None}\n",
      "CPU times: user 5.43 ms, sys: 0 ns, total: 5.43 ms\n",
      "Wall time: 1.88 s\n"
     ]
    }
   ],
   "source": [
    "%%time\n",
    "\n",
    "model = \"Qwen/Qwen2.5-VL-3B-Instruct\"\n",
    "\n",
    "with open(\"/workspace/knowledge-base-chat-bot-develop/data/kzsk/images/pages/1.png\", \"rb\") as image_file:\n",
    "    buffer = image_file.read() \n",
    "    encoded_image = base64.b64encode(buffer).decode(\"utf-8\")\n",
    "\n",
    "system_prompt = \"Вы — помощник, отвечающий только на русском языке, специализирующийся на описании таблиц из научных статей. Давайте подробные подписи к таблицам, отражающие ключевую информацию. Чётко опишите их содержание и назначение. Ваша подпись должна быть оптимизирована для последующего поиска, чтобы люди могли легко находить ответы на вопросы по этому содержимому. Опирайся на предоставленный текст, помимо картинки - на нем текст со страницы. Отдай ответ в виде JSON-схемы формата - {'annotations': ['table_name': название_таблицы, 'description': описание_таблицы_из_2-3_предложений]}\"\n",
    "\n",
    "query = \"\"\"\n",
    "Опиши все таблицы на этой странице сверху вниз. Опирайся на текст страницы - 'Table  1 THE CHARACTERISTICS OF H L PDMS COPOLYMERS\\n\\n<!-- image -->\\n\\n| Sample   | DH /D   | H\"     | 25    | Mv   | GPC   | GPC   | GPC   |\\n|----------|---------|--------|-------|------|-------|-------|-------|\\n|          |         | [%]    | [cSt] |      | Mn    | Mw    | Mw/Mn |\\n| HPDMS-1  | 1:8.4   | 0.1393 | 78    | 7000 | 6250  | 11187 | 1.79  |\\n| HPDMS-2  | 1:10    | 0.1312 | 63    | 4000 | 3583  | 5750  | 1.6   |\\n\\nAs determined by modified Zerewitinonoff metode [16];\\n\\nblgn25\\n\\nIn  table  1  the  specific  characteristics of  H l PDMS copolymers are presented. The ratio between CH 3 (H) SiO/ (CH 3 ) 2 SiO (D H /D) was determined from the integrals of the corresponding protons signals for the above mentioned groups in the 1 H-NMR spectrum.\\n\\n## Characteristics for V PDMS and VcPDMS copolymers\\n\\nl The  characteristics  of  the  V l PDMS and VcPDMS copolymers are presented in table 2. The ratios CH 2 =CHSi/(CH 3 ) 2 SiO- (V/D), calculated according to the quantities of  the  two  components  introduced  in  reaction  are presented.\\n\\nThe structure of the V l PDMS and VcPDMS copolymers was initially determined by FT-IR spectroscopy.\\n\\nIn the 1 H-NMR spectrum (fig.4) of VcPDMS copolymer the characteristic peaks of -CH 3 methyl protons linked to Si atom (at 0.1-0.2 ppm) and the peaks characteristic of protons  from the double bond -Si-CH=CH (at 5.7-6.2 ppm) can be observed.\\n\\nThe presence of vinyl groups from V l PDMS copolymers could not be the evidence of 1 H-NMR technique due to the small number of vinyl groups in the structure of copolymers.\\n\\nThermo-mechanical characterisation for polysiloxane networks\\n\\nThe physico-mechanical properties (table 3) of the crosslinked polymers related to the molar ratio of the -SiCH=CH 2 /-Si-H reactive groups were studied.\\n\\nFigure  1,  that  presents  the  FT-IR  spectrum  of  the polysiloxanes with vinyl functional groups (V l PDMS and VcPDMS), indicates the presence of the characteristic absorption bands: one at 3052 cm -1 attributed to -Si-CHCH 2 group, the second one at 1597 cm -1 characteristic to the C=C bond and another one at1408 cm -1 determined by =CH 2 grouping.\\n\\nAs  depicted  in  table  3  the  values  of  the  physicomechanical parameters are quite low, but typical for silicon elastomers [18].\\n\\nThe dependence of the physical properties of the corresponding siloxanes on temperature was studied by differential scanning calorimetry (DSC) (fig. 4).\\n\\nThe  glass  temperature Tg (around -118°C) and ÄCp obtained were characteristic for an amorphous phase. Around -48°C an endothermic peak associated with the\\n\\n| Sample   |         | Conversie   | Mv     | GPC    | GPC     | GPC    |\\n|----------|---------|-------------|--------|--------|---------|--------|\\n|          | initial | [%]         |        | Mn     | Mw      | Mw/ Mn |\\n| VPDMS    | 1:70    | 78          | 95.500 | 50.677 | 104.753 | 2.067  |\\n| VcPDMS   | 1:8     | 85          | 594    | 1366   | 1853    | 1.357  |\\n\\nVID CHz =CHSi-/(CHs)SiO- b1gn25 =1+ 0.0123M\"5 [17]\\n\\nTable  2\\n\\nTHE CHARACTERISTICS OF V l PDMS AND VcPDMS COPOLYMERS'\n",
    "Не забудь вернуть ответ в виде JSON.\"\"\"\n",
    "\n",
    "response = get_response(model, system_prompt, encoded_image, query, url=\"http://localhost:8000/v1/chat/completions\")\n",
    "print(response)"
   ]
  },
  {
   "cell_type": "code",
   "execution_count": null,
   "id": "bc4c73a3-aac5-46a9-8efb-2866efe582d7",
   "metadata": {},
   "outputs": [],
   "source": [
    "\"table_name\": \"Таблица 1\",\\n      \"table_description\": \"Эта таблица представляет собой характеристики полимеров H l PDMS и V PDMS copolymers. Она показывает отношение CH 3 (H) SiO/ (CH 3 ) 2 SiO (DH /D) и другие физико-механические параметры таких как H\""
   ]
  },
  {
   "cell_type": "code",
   "execution_count": 99,
   "id": "bfe8b587-5d77-432c-8805-06b85bb90805",
   "metadata": {},
   "outputs": [
    {
     "data": {
      "text/plain": [
       "'{\\n  \"annotations\": [\\n    {\\n      \"table_name\": \"Table 1\",\\n      \"table_description\": \"Таблица 1 содержит характеристики полимеров H-PDMS. В ней представлены параметры молекулярной массы и ГПК для двух образцов H-PDMS: HPDMS-1 и HPDMS-2.\"\\n    },\\n    {\\n      \"table_name\": \"Table 2\",\\n      \"table_description\": \"Таблица 2 показывает характеристики полимеров VPDMS и VcPDMS. Она включает данные о конверсии, молекулярной массе и ГПК для этих полимеров.\"\\n    }\\n  ]\\n}'"
      ]
     },
     "execution_count": 99,
     "metadata": {},
     "output_type": "execute_result"
    }
   ],
   "source": [
    "response['choices'][0]['message']['content']"
   ]
  },
  {
   "cell_type": "code",
   "execution_count": 101,
   "id": "1610a7da-6ea8-4e47-8036-27c2a741e5d1",
   "metadata": {},
   "outputs": [
    {
     "name": "stdout",
     "output_type": "stream",
     "text": [
      "{'annotations': [{'table_name': 'Table 1', 'table_description': 'Таблица 1 содержит характеристики полимеров H-PDMS. В ней представлены параметры молекулярной массы и ГПК для двух образцов H-PDMS: HPDMS-1 и HPDMS-2.'}, {'table_name': 'Table 2', 'table_description': 'Таблица 2 показывает характеристики полимеров VPDMS и VcPDMS. Она включает данные о конверсии, молекулярной массе и ГПК для этих полимеров.'}]}\n"
     ]
    }
   ],
   "source": [
    "import json\n",
    "\n",
    "data = json.loads(response['choices'][0]['message']['content'])\n",
    "print(data)"
   ]
  },
  {
   "cell_type": "code",
   "execution_count": 75,
   "id": "8814be81-27e4-46c0-bd26-599774db98d9",
   "metadata": {},
   "outputs": [
    {
     "data": {
      "text/plain": [
       "'{\\n  \"annotations\": [\\n    {\\n      \"table_name\": \"Таблица 3. Свойства резиновых смесей и резин на основе СКЭПТ 60 2 гр. с ЭНБ для производства уплотнителей\",\\n      \"table_description\": \"Эта таблица представляет собой сравнение различных свойств резиновых смесей, полученных из резины на основе СКЭПТ 60 2 гр. с ЭНБ, при различных условиях. Она включает в себя такие параметры, как вязкость, пластичность, эластическое восстановление, реометрия, крутящий момент, время начала и достижения вулканизации, а также оптимальное время вулканизации. Также представлены данные о вулканизате, включая условную прочность, относительное удлинение при разрыве, твердость по Шору А, сопротивление раздуву и изменения в твердости и прочности после старения.\"\\n    }\\n  ]\\n}'"
      ]
     },
     "execution_count": 75,
     "metadata": {},
     "output_type": "execute_result"
    }
   ],
   "source": [
    "response['choices'][0]['message']['content']"
   ]
  },
  {
   "cell_type": "code",
   "execution_count": null,
   "id": "b531ee80-5b37-4100-b5d6-f2fa2c4bdc63",
   "metadata": {},
   "outputs": [],
   "source": []
  },
  {
   "cell_type": "code",
   "execution_count": null,
   "id": "d2b5ed96-57b0-461e-8af4-92ca34d0f37c",
   "metadata": {},
   "outputs": [],
   "source": []
  },
  {
   "cell_type": "code",
   "execution_count": null,
   "id": "7a7dfb55-2735-4519-898b-da3bde3f7a0f",
   "metadata": {},
   "outputs": [],
   "source": []
  },
  {
   "cell_type": "code",
   "execution_count": null,
   "id": "35245275-254f-4dd1-a26b-a1c5d6eedac8",
   "metadata": {},
   "outputs": [],
   "source": []
  },
  {
   "cell_type": "code",
   "execution_count": null,
   "id": "ba1e9245-8ceb-4813-adc8-8143ca1fdc6d",
   "metadata": {},
   "outputs": [],
   "source": []
  },
  {
   "cell_type": "code",
   "execution_count": null,
   "id": "d4110f6c-ff89-4ea2-9eb6-8fa1168713d4",
   "metadata": {},
   "outputs": [],
   "source": []
  },
  {
   "cell_type": "code",
   "execution_count": null,
   "id": "5697f38e-6eb0-4f7c-821f-940ca110d0df",
   "metadata": {},
   "outputs": [],
   "source": []
  }
 ],
 "metadata": {
  "kernelspec": {
   "display_name": "Python 3 (ipykernel)",
   "language": "python",
   "name": "python3"
  },
  "language_info": {
   "codemirror_mode": {
    "name": "ipython",
    "version": 3
   },
   "file_extension": ".py",
   "mimetype": "text/x-python",
   "name": "python",
   "nbconvert_exporter": "python",
   "pygments_lexer": "ipython3",
   "version": "3.10.0"
  }
 },
 "nbformat": 4,
 "nbformat_minor": 5
}
